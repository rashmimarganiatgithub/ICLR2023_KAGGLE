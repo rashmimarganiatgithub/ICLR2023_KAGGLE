{
 "cells": [
  {
   "cell_type": "markdown",
   "metadata": {},
   "source": [
    "This notebook provides a comprehensive guide on how to utilize Facebook's FastText library for text classification tasks. FastText is a powerful open-source library developed by Facebook's AI research team that provides state-of-the-art performance in natural language processing (NLP) tasks such as text classification, sentiment analysis, and language modeling.\n",
    "\n",
    "We demonstrate how to implement FastText for text classification tasks by providing a step-by-step guide on how to train a text classifier on a large corpus of text data. We will explore the different hyperparameters and feature engineering techniques that can be used to optimize the performance of the FastText classifier.\n",
    "\n",
    "By following the steps outlined in this notebook, you will be able to leverage the power of FastText for text classification tasks and achieve state-of-the-art performance. In particular, you will gain the potential of integrating FastText with LightGBM classier using TUNIZI data set.\n",
    "\n",
    "LightGBM is a gradient boosting framework that is commonly used for machine learning tasks such as classification, regression, and ranking. It is designed to be highly efficient, scalable, and accurate, making it a popular choice for handling large-scale data sets.\n",
    "\n",
    "One of the key advantages of LightGBM is its ability to handle sparse data, making it well-suited for text classification tasks where the input data is typically high-dimensional and sparse. It uses a histogram-based algorithm to bin feature values, allowing for faster computation of the gradient and reducing the memory requirements of the algorithm.\n",
    "\n",
    "LightGBM also offers various hyperparameters that can be tuned to optimize the performance of the classification algorithm. These include parameters that control the depth and number of trees, the learning rate, and the regularization parameters.\n",
    "\n",
    "In this notebook, we will be using LightGBM as a classification algorithm to predict the category of each text sample in the TUNIZI data set. We will demonstrate how to integrate FastText with LightGBM to preprocess the text data and generate word embeddings, which can then be used as input to the classification algorithm.\n",
    "\n",
    "We will also provide a step-by-step guide on how to tune the hyperparameters of the LightGBM algorithm to achieve optimal performance on the TUNIZI data set. This will involve using techniques such as grid search or randomized search to explore the hyperparameter space and identify the best combination of hyperparameters.\n",
    "\n",
    "By using LightGBM as the classification algorithm in combination with FastText, we will be able to achieve state-of-the-art performance on the TUNIZI data set and develop robust and accurate text classification models for various real-world applications."
   ]
  },
  {
   "cell_type": "code",
   "execution_count": 1,
   "metadata": {
    "id": "j_02QQdzBF9h"
   },
   "outputs": [],
   "source": [
    "import io\n",
    "import os\n",
    "import gc\n",
    "import re\n",
    "import pickle\n",
    "import random\n",
    "import termcolor\n",
    "import warnings\n",
    "import shutil\n",
    "from collections import Counter\n",
    "from functools import partial\n",
    "from datetime import datetime\n",
    "from dataclasses import dataclass\n",
    "from pathlib import Path\n",
    "from typing import List\n",
    "\n",
    "import pandas as pd\n",
    "import numpy as np\n",
    "from tqdm.auto import tqdm\n",
    "\n",
    "from sklearn.model_selection import StratifiedKFold\n",
    "from sklearn.metrics import  accuracy_score\n",
    "\n",
    "import lightgbm as lgbm\n",
    "from joblib import dump, load"
   ]
  },
  {
   "cell_type": "code",
   "execution_count": 2,
   "metadata": {
    "colab": {
     "base_uri": "https://localhost:8080/"
    },
    "executionInfo": {
     "elapsed": 54362,
     "status": "ok",
     "timestamp": 1615822301608,
     "user": {
      "displayName": "Kotaro Watanabe",
      "photoUrl": "https://lh3.googleusercontent.com/a-/AOh14GjG4H2tZxrV5HsbDvpsnpXb3s0bXWqYh6lAIWVWIw=s64",
      "userId": "16342582602300984286"
     },
     "user_tz": -540
    },
    "id": "g1Z7TV_VBLDn",
    "outputId": "d0b17f94-47db-48ec-b2ec-e98bc5e96911"
   },
   "outputs": [],
   "source": [
    "#!pip install -q git+https://github.com/facebookresearch/fastText.git\n",
    "#!pip install -q texthero"
   ]
  },
  {
   "cell_type": "code",
   "execution_count": 3,
   "metadata": {
    "colab": {
     "base_uri": "https://localhost:8080/"
    },
    "executionInfo": {
     "elapsed": 58081,
     "status": "ok",
     "timestamp": 1615822306953,
     "user": {
      "displayName": "Kotaro Watanabe",
      "photoUrl": "https://lh3.googleusercontent.com/a-/AOh14GjG4H2tZxrV5HsbDvpsnpXb3s0bXWqYh6lAIWVWIw=s64",
      "userId": "16342582602300984286"
     },
     "user_tz": -540
    },
    "id": "wTJM8h7zBLYD",
    "outputId": "84c1482f-7f18-4583-9c01-672e18e6694f"
   },
   "outputs": [],
   "source": [
    "import fasttext\n",
    "import texthero\n",
    "from nltk.corpus import stopwords"
   ]
  },
  {
   "cell_type": "code",
   "execution_count": 4,
   "metadata": {
    "id": "Ntg5d91-t5_J"
   },
   "outputs": [],
   "source": [
    "stopwords_list = stopwords.words('english') + stopwords.words('french')"
   ]
  },
  {
   "cell_type": "markdown",
   "metadata": {
    "id": "-kMge26lETxS"
   },
   "source": [
    "# Config"
   ]
  },
  {
   "cell_type": "code",
   "execution_count": 5,
   "metadata": {
    "colab": {
     "base_uri": "https://localhost:8080/"
    },
    "executionInfo": {
     "elapsed": 1222,
     "status": "ok",
     "timestamp": 1615822314145,
     "user": {
      "displayName": "Kotaro Watanabe",
      "photoUrl": "https://lh3.googleusercontent.com/a-/AOh14GjG4H2tZxrV5HsbDvpsnpXb3s0bXWqYh6lAIWVWIw=s64",
      "userId": "16342582602300984286"
     },
     "user_tz": -540
    },
    "id": "QebSJc8pEZPo",
    "outputId": "86382f5c-2c9d-4ee2-bd52-a1d58f2fb033"
   },
   "outputs": [
    {
     "name": "stdout",
     "output_type": "stream",
     "text": [
      "DEBUG:\t True\n",
      "SAVE_PATH:\t ../input\n",
      "NUM_WORKERS:\t 12\n"
     ]
    }
   ],
   "source": [
    "DEBUG = True\n",
    "SAVE_PATH = None\n",
    "SEED = 42\n",
    "NOW = datetime.strftime(datetime.now() , \"%m%d\")\n",
    "\n",
    "SAVE_PATH = Path(f'../input/')\n",
    "SAVE_PATH.mkdir(exist_ok=True)\n",
    "\n",
    "NUM_WORKERS = os.cpu_count()\n",
    "\n",
    "print(\"DEBUG:\\t\", DEBUG)\n",
    "print(\"SAVE_PATH:\\t\", SAVE_PATH)\n",
    "print(\"NUM_WORKERS:\\t\", NUM_WORKERS)"
   ]
  },
  {
   "cell_type": "code",
   "execution_count": 6,
   "metadata": {
    "id": "CP_WHbM6EYwU"
   },
   "outputs": [],
   "source": [
    "# @dataclass\n",
    "# class Config:\n",
    "#     max_seq_len:int = 192\n",
    "#     num_fold:int = 5\n",
    "\n",
    "#     lr:float = 3e-5\n",
    "#     batch_size: int = 128\n",
    "#     num_epoch:int = 10\n",
    "#     max_grad_norm:float = 1.0\n",
    "#     gradient_accumulation_steps: int = 1\n",
    "#     warmup_steps: int = 0\n",
    "#     weight_decay: float = 0.0\n",
    "#     adam_beta1: float = 0.9\n",
    "#     adam_beta2: float = 0.999\n",
    "#     adam_epsilon: float= 1e-8\n",
    "#     max_grad_norm: float = 1.0\n",
    "\n",
    "#     save_top_k:int = 1\n",
    "\n",
    "#     def __post_init__(self):\n",
    "#         pass\n",
    "\n",
    "\n",
    "# cfg = Config()\n",
    "# cfg"
   ]
  },
  {
   "cell_type": "markdown",
   "metadata": {
    "id": "HfiELHzjFL2E"
   },
   "source": [
    "# Helper"
   ]
  },
  {
   "cell_type": "code",
   "execution_count": 7,
   "metadata": {
    "id": "voQHpro9FP2k"
   },
   "outputs": [],
   "source": [
    "def save_pkl(dir, name, obj):\n",
    "    dir.mkdir(exist_ok=True)\n",
    "    with open(dir / name, 'wb') as f:\n",
    "        pickle.dump(obj, f)\n",
    "\n",
    "def load_pkl(dir, name):\n",
    "    with open(dir / name, 'rb') as f:\n",
    "        return pickle.load(f)\n",
    "\n",
    "def set_seed(seed=42):\n",
    "    os.environ['PYTHONHASHSEED'] = str(seed)\n",
    "    random.seed(seed)\n",
    "    np.random.seed(seed)"
   ]
  },
  {
   "cell_type": "code",
   "execution_count": 8,
   "metadata": {
    "id": "JZBPEWNFFVLZ"
   },
   "outputs": [],
   "source": [
    "set_seed(SEED)"
   ]
  },
  {
   "cell_type": "markdown",
   "metadata": {
    "id": "6Ld8ol7DDmZ-"
   },
   "source": [
    "# Load Data"
   ]
  },
  {
   "cell_type": "code",
   "execution_count": 9,
   "metadata": {
    "id": "R4ntrti-BRfx"
   },
   "outputs": [],
   "source": [
    "train_df = pd.read_csv(\"./input/Train.csv\")\n",
    "test_df = pd.read_csv(\"./input/Test.csv\")"
   ]
  },
  {
   "cell_type": "code",
   "execution_count": 23,
   "metadata": {},
   "outputs": [
    {
     "data": {
      "image/png": "[encoded data removed]",
      "text/plain": [
       "<Figure size 640x480 with 1 Axes>"
      ]
     },
     "metadata": {},
     "output_type": "display_data"
    }
   ],
   "source": [
    "import matplotlib.pyplot as plt\n",
    "\n",
    "# Create histogram\n",
    "plt.hist(train_df['label'], bins=3, edgecolor='black', fill=False)\n",
    "\n",
    "# Add axis labels\n",
    "plt.xlabel('Label')\n",
    "plt.ylabel('Counts (Numbers)')\n",
    "\n",
    "plt.xticks([-0.65, 0, 0.65], ['Negative', 'Neutral', 'Positive'],fontweight='bold')\n",
    "\n",
    "plt.savefig('f1.png')\n",
    "\n",
    "# Show plot\n",
    "plt.show()\n"
   ]
  },
  {
   "cell_type": "code",
   "execution_count": 32,
   "metadata": {
    "id": "aN6BF9knDnbQ"
   },
   "outputs": [],
   "source": [
    "LABEL2ID = {label:i for i, label in enumerate(train_df['label'].unique())}\n",
    "ID2LABEL = {v:k for k, v in LABEL2ID.items()}\n",
    "\n",
    "train_df['label_ids'] = train_df['label'].map(LABEL2ID)"
   ]
  },
  {
   "cell_type": "code",
   "execution_count": 33,
   "metadata": {
    "colab": {
     "base_uri": "https://localhost:8080/",
     "height": 406
    },
    "executionInfo": {
     "elapsed": 2492,
     "status": "ok",
     "timestamp": 1615822315438,
     "user": {
      "displayName": "Kotaro Watanabe",
      "photoUrl": "https://lh3.googleusercontent.com/a-/AOh14GjG4H2tZxrV5HsbDvpsnpXb3s0bXWqYh6lAIWVWIw=s64",
      "userId": "16342582602300984286"
     },
     "user_tz": -540
    },
    "id": "P75R2S-XDtcP",
    "outputId": "7f5fc3d1-e8cb-4f35-d84c-057f6ca8095e"
   },
   "outputs": [
    {
     "data": {
      "text/html": [
       "<div>\n",
       "<style scoped>\n",
       "    .dataframe tbody tr th:only-of-type {\n",
       "        vertical-align: middle;\n",
       "    }\n",
       "\n",
       "    .dataframe tbody tr th {\n",
       "        vertical-align: top;\n",
       "    }\n",
       "\n",
       "    .dataframe thead th {\n",
       "        text-align: right;\n",
       "    }\n",
       "</style>\n",
       "<table border=\"1\" class=\"dataframe\">\n",
       "  <thead>\n",
       "    <tr style=\"text-align: right;\">\n",
       "      <th></th>\n",
       "      <th>ID</th>\n",
       "      <th>text</th>\n",
       "      <th>label</th>\n",
       "      <th>label_ids</th>\n",
       "    </tr>\n",
       "  </thead>\n",
       "  <tbody>\n",
       "    <tr>\n",
       "      <th>0</th>\n",
       "      <td>ID_13P0QT0</td>\n",
       "      <td>3sbaaaaaaaaaaaaaaaaaaaa lek ou le seim riahi o...</td>\n",
       "      <td>-1</td>\n",
       "      <td>0</td>\n",
       "    </tr>\n",
       "    <tr>\n",
       "      <th>1</th>\n",
       "      <td>ID_SKCLXCJ</td>\n",
       "      <td>cha3eb fey9elkoum menghir ta7ayoul ou kressi</td>\n",
       "      <td>-1</td>\n",
       "      <td>0</td>\n",
       "    </tr>\n",
       "    <tr>\n",
       "      <th>2</th>\n",
       "      <td>ID_V1TVXIJ</td>\n",
       "      <td>bereau degage nathef ya slim walahi ya7chiw fi...</td>\n",
       "      <td>-1</td>\n",
       "      <td>0</td>\n",
       "    </tr>\n",
       "    <tr>\n",
       "      <th>3</th>\n",
       "      <td>ID_U0TTYY8</td>\n",
       "      <td>ak slouma</td>\n",
       "      <td>1</td>\n",
       "      <td>1</td>\n",
       "    </tr>\n",
       "    <tr>\n",
       "      <th>4</th>\n",
       "      <td>ID_68DX797</td>\n",
       "      <td>entom titmanou lina a7na 3iid moubarik a7na ch...</td>\n",
       "      <td>-1</td>\n",
       "      <td>0</td>\n",
       "    </tr>\n",
       "    <tr>\n",
       "      <th>...</th>\n",
       "      <td>...</td>\n",
       "      <td>...</td>\n",
       "      <td>...</td>\n",
       "      <td>...</td>\n",
       "    </tr>\n",
       "    <tr>\n",
       "      <th>69995</th>\n",
       "      <td>ID_ZRSR7TZ</td>\n",
       "      <td>pff bayna beli kbira f wejhakk yakhiii rouhi r...</td>\n",
       "      <td>-1</td>\n",
       "      <td>0</td>\n",
       "    </tr>\n",
       "    <tr>\n",
       "      <th>69996</th>\n",
       "      <td>ID_QNQVEIH</td>\n",
       "      <td>aman lmara jeya zidou t3am9ou fel a7deeth akth...</td>\n",
       "      <td>-1</td>\n",
       "      <td>0</td>\n",
       "    </tr>\n",
       "    <tr>\n",
       "      <th>69997</th>\n",
       "      <td>ID_LJ2K9MD</td>\n",
       "      <td>winha nakhtabha hhhhh</td>\n",
       "      <td>-1</td>\n",
       "      <td>0</td>\n",
       "    </tr>\n",
       "    <tr>\n",
       "      <th>69998</th>\n",
       "      <td>ID_5RZ1T7I</td>\n",
       "      <td>fachel enta w houwa</td>\n",
       "      <td>-1</td>\n",
       "      <td>0</td>\n",
       "    </tr>\n",
       "    <tr>\n",
       "      <th>69999</th>\n",
       "      <td>ID_WZCF7CL</td>\n",
       "      <td>nchla lyouma nesm3ou a5beer bahiya 3la jem3iya</td>\n",
       "      <td>1</td>\n",
       "      <td>1</td>\n",
       "    </tr>\n",
       "  </tbody>\n",
       "</table>\n",
       "<p>70000 rows × 4 columns</p>\n",
       "</div>"
      ],
      "text/plain": [
       "               ID                                               text  label  \\\n",
       "0      ID_13P0QT0  3sbaaaaaaaaaaaaaaaaaaaa lek ou le seim riahi o...     -1   \n",
       "1      ID_SKCLXCJ       cha3eb fey9elkoum menghir ta7ayoul ou kressi     -1   \n",
       "2      ID_V1TVXIJ  bereau degage nathef ya slim walahi ya7chiw fi...     -1   \n",
       "3      ID_U0TTYY8                                          ak slouma      1   \n",
       "4      ID_68DX797  entom titmanou lina a7na 3iid moubarik a7na ch...     -1   \n",
       "...           ...                                                ...    ...   \n",
       "69995  ID_ZRSR7TZ  pff bayna beli kbira f wejhakk yakhiii rouhi r...     -1   \n",
       "69996  ID_QNQVEIH  aman lmara jeya zidou t3am9ou fel a7deeth akth...     -1   \n",
       "69997  ID_LJ2K9MD                              winha nakhtabha hhhhh     -1   \n",
       "69998  ID_5RZ1T7I                                fachel enta w houwa     -1   \n",
       "69999  ID_WZCF7CL     nchla lyouma nesm3ou a5beer bahiya 3la jem3iya      1   \n",
       "\n",
       "       label_ids  \n",
       "0              0  \n",
       "1              0  \n",
       "2              0  \n",
       "3              1  \n",
       "4              0  \n",
       "...          ...  \n",
       "69995          0  \n",
       "69996          0  \n",
       "69997          0  \n",
       "69998          0  \n",
       "69999          1  \n",
       "\n",
       "[70000 rows x 4 columns]"
      ]
     },
     "execution_count": 33,
     "metadata": {},
     "output_type": "execute_result"
    }
   ],
   "source": [
    "train_df"
   ]
  },
  {
   "cell_type": "code",
   "execution_count": 34,
   "metadata": {
    "id": "UCgs5kqE4wS6"
   },
   "outputs": [],
   "source": [
    "train_targets = train_df['label_ids'].values"
   ]
  },
  {
   "cell_type": "code",
   "execution_count": 35,
   "metadata": {
    "id": "XPmt8CqODqNc"
   },
   "outputs": [],
   "source": [
    "all_texts = pd.concat([train_df['text'].str.lower(), test_df['text'].str.lower()])"
   ]
  },
  {
   "cell_type": "code",
   "execution_count": 36,
   "metadata": {
    "id": "l0pn61H8uD-L"
   },
   "outputs": [],
   "source": [
    "all_texts = texthero.remove_stopwords(all_texts, stopwords_list)\n",
    "all_texts = texthero.remove_whitespace(all_texts)"
   ]
  },
  {
   "cell_type": "code",
   "execution_count": 37,
   "metadata": {},
   "outputs": [
    {
     "data": {
      "text/plain": [
       "0        3sbaaaaaaaaaaaaaaaaaaaa lek seim riahi 3sbaaaa...\n",
       "1                cha3eb fey9elkoum menghir ta7ayoul kressi\n",
       "2        bereau degage nathef ya slim walahi ya7chiw fi...\n",
       "3                                                ak slouma\n",
       "4        entom titmanou lina a7na 3iid moubarik a7na ch...\n",
       "                               ...                        \n",
       "29995                                         ihebekch raw\n",
       "29996    nchallah rabi m3ak w iwaf9ek 7abit nes2l win w...\n",
       "29997    slim rabi m3ak w e5edem w 5alli l7ossed lemnay...\n",
       "29998    bara 5alis rouhik yizi mitbal3it jam3iya hlaki...\n",
       "29999    rabi m3aaaak ya khawlaaa n7ebouuuuk rana barsh...\n",
       "Name: text, Length: 100000, dtype: object"
      ]
     },
     "execution_count": 37,
     "metadata": {},
     "output_type": "execute_result"
    }
   ],
   "source": [
    "all_texts"
   ]
  },
  {
   "cell_type": "markdown",
   "metadata": {
    "id": "yrDTIh5SCvmL"
   },
   "source": [
    "# Train Fasttext"
   ]
  },
  {
   "cell_type": "code",
   "execution_count": 21,
   "metadata": {
    "id": "c1vAMzngC1dD"
   },
   "outputs": [],
   "source": [
    "with open(\"../input/data.txt\", \"w\") as f:\n",
    "    for line in all_texts:\n",
    "        f.write(line+\"\\n\")"
   ]
  },
  {
   "cell_type": "code",
   "execution_count": 22,
   "metadata": {
    "colab": {
     "base_uri": "https://localhost:8080/"
    },
    "executionInfo": {
     "elapsed": 360660,
     "status": "ok",
     "timestamp": 1615822673623,
     "user": {
      "displayName": "Kotaro Watanabe",
      "photoUrl": "https://lh3.googleusercontent.com/a-/AOh14GjG4H2tZxrV5HsbDvpsnpXb3s0bXWqYh6lAIWVWIw=s64",
      "userId": "16342582602300984286"
     },
     "user_tz": -540
    },
    "id": "2Y43409mCycJ",
    "outputId": "9502aa3b-f367-4e46-9874-cc607bf348ff"
   },
   "outputs": [
    {
     "name": "stderr",
     "output_type": "stream",
     "text": [
      "Read 1M words\n",
      "Number of words:  18460\n",
      "Number of labels: 0\n",
      "Progress:  99.4% words/sec/thread:   24425 lr:  0.000324 avg.loss:  2.090959 ETA:   0h 0m 0s"
     ]
    },
    {
     "name": "stdout",
     "output_type": "stream",
     "text": [
      "CPU times: user 7min 9s, sys: 1.2 s, total: 7min 10s\n",
      "Wall time: 40.6 s\n"
     ]
    },
    {
     "name": "stderr",
     "output_type": "stream",
     "text": [
      "Progress: 100.0% words/sec/thread:   24394 lr:  0.000000 avg.loss:  2.089059 ETA:   0h 0m 0s\n"
     ]
    }
   ],
   "source": [
    "%%time\n",
    "fattext_model = fasttext.train_unsupervised(\"../input/data.txt\", model='skipgram', dim=300, wordNgrams=2, epoch=10)"
   ]
  },
  {
   "cell_type": "code",
   "execution_count": 23,
   "metadata": {
    "colab": {
     "base_uri": "https://localhost:8080/",
     "height": 65,
     "referenced_widgets": [
      "2ba24a1b71e848d1b72bd7c04a274240",
      "bece14ab8109428d911f66b9b672d9fc",
      "f6d69595a9cd41659a73bda9e9f28021",
      "7148e44516fc4443842f74f988436e10",
      "3c13eca4c287455d9f83148b4ba3ee03",
      "29daa51c7c394e35b6190c7937fe890a",
      "a13d7c4c7be149af9dc8cfaae0dfceb6",
      "c0c1185aac4e4c339460db4ae237df6a"
     ]
    },
    "executionInfo": {
     "elapsed": 376331,
     "status": "ok",
     "timestamp": 1615822689297,
     "user": {
      "displayName": "Kotaro Watanabe",
      "photoUrl": "https://lh3.googleusercontent.com/a-/AOh14GjG4H2tZxrV5HsbDvpsnpXb3s0bXWqYh6lAIWVWIw=s64",
      "userId": "16342582602300984286"
     },
     "user_tz": -540
    },
    "id": "EIYQ0O813il6",
    "outputId": "729d8f0e-5450-4983-860a-4f722f9bb520",
    "scrolled": true
   },
   "outputs": [
    {
     "data": {
      "application/vnd.jupyter.widget-view+json": {
       "model_id": "a386404392ba46459269ddada6f990db",
       "version_major": 2,
       "version_minor": 0
      },
      "text/plain": [
       "  0%|          | 0/100000 [00:00<?, ?it/s]"
      ]
     },
     "metadata": {},
     "output_type": "display_data"
    }
   ],
   "source": [
    "all_features = [fattext_model.get_sentence_vector(text) for text in tqdm(all_texts)]\n",
    "all_features = np.vstack(all_features)"
   ]
  },
  {
   "cell_type": "code",
   "execution_count": 25,
   "metadata": {},
   "outputs": [],
   "source": [
    "all_features = np.vstack(all_features)"
   ]
  },
  {
   "cell_type": "code",
   "execution_count": 28,
   "metadata": {
    "id": "KD-b59N136-n"
   },
   "outputs": [],
   "source": [
    "train_features = all_features[:len(train_df)]\n",
    "test_features = all_features[len(train_df):]"
   ]
  },
  {
   "cell_type": "markdown",
   "metadata": {
    "id": "AGMQn9q2FvtM"
   },
   "source": [
    "# Model"
   ]
  },
  {
   "cell_type": "code",
   "execution_count": 37,
   "metadata": {
    "scrolled": false
   },
   "outputs": [
    {
     "name": "stdout",
     "output_type": "stream",
     "text": [
      "Fitting 5 folds for each of 50 candidates, totalling 250 fits\n",
      "[CV 1/5] END colsample_bytree=1.0, learning_rate=0.05, max_depth=6, min_child_weight=10, n_estimators=100, num_leaves=16, reg_alpha=0.01, reg_lambda=0.01, subsample=0.6;, score=0.786 total time=   8.5s\n",
      "[CV 2/5] END colsample_bytree=1.0, learning_rate=0.05, max_depth=6, min_child_weight=10, n_estimators=100, num_leaves=16, reg_alpha=0.01, reg_lambda=0.01, subsample=0.6;, score=0.784 total time=   9.4s\n",
      "[CV 3/5] END colsample_bytree=1.0, learning_rate=0.05, max_depth=6, min_child_weight=10, n_estimators=100, num_leaves=16, reg_alpha=0.01, reg_lambda=0.01, subsample=0.6;, score=0.787 total time=  18.3s\n",
      "[CV 4/5] END colsample_bytree=1.0, learning_rate=0.05, max_depth=6, min_child_weight=10, n_estimators=100, num_leaves=16, reg_alpha=0.01, reg_lambda=0.01, subsample=0.6;, score=0.793 total time=   9.8s\n",
      "[CV 5/5] END colsample_bytree=1.0, learning_rate=0.05, max_depth=6, min_child_weight=10, n_estimators=100, num_leaves=16, reg_alpha=0.01, reg_lambda=0.01, subsample=0.6;, score=0.790 total time=   8.3s\n",
      "[CV 1/5] END colsample_bytree=0.6, learning_rate=0.01, max_depth=8, min_child_weight=1, n_estimators=500, num_leaves=32, reg_alpha=1.0, reg_lambda=0.1, subsample=1.0;, score=0.791 total time=  37.4s\n",
      "[CV 2/5] END colsample_bytree=0.6, learning_rate=0.01, max_depth=8, min_child_weight=1, n_estimators=500, num_leaves=32, reg_alpha=1.0, reg_lambda=0.1, subsample=1.0;, score=0.789 total time=  36.6s\n",
      "[CV 3/5] END colsample_bytree=0.6, learning_rate=0.01, max_depth=8, min_child_weight=1, n_estimators=500, num_leaves=32, reg_alpha=1.0, reg_lambda=0.1, subsample=1.0;, score=0.790 total time=  36.9s\n",
      "[CV 4/5] END colsample_bytree=0.6, learning_rate=0.01, max_depth=8, min_child_weight=1, n_estimators=500, num_leaves=32, reg_alpha=1.0, reg_lambda=0.1, subsample=1.0;, score=0.798 total time=  36.7s\n",
      "[CV 5/5] END colsample_bytree=0.6, learning_rate=0.01, max_depth=8, min_child_weight=1, n_estimators=500, num_leaves=32, reg_alpha=1.0, reg_lambda=0.1, subsample=1.0;, score=0.796 total time=  39.9s\n",
      "[CV 1/5] END colsample_bytree=0.6, learning_rate=0.1, max_depth=8, min_child_weight=5, n_estimators=100, num_leaves=32, reg_alpha=0.1, reg_lambda=1.0, subsample=1.0;, score=0.794 total time=  10.2s\n",
      "[CV 2/5] END colsample_bytree=0.6, learning_rate=0.1, max_depth=8, min_child_weight=5, n_estimators=100, num_leaves=32, reg_alpha=0.1, reg_lambda=1.0, subsample=1.0;, score=0.793 total time=  11.2s\n",
      "[CV 3/5] END colsample_bytree=0.6, learning_rate=0.1, max_depth=8, min_child_weight=5, n_estimators=100, num_leaves=32, reg_alpha=0.1, reg_lambda=1.0, subsample=1.0;, score=0.796 total time=   8.1s\n",
      "[CV 4/5] END colsample_bytree=0.6, learning_rate=0.1, max_depth=8, min_child_weight=5, n_estimators=100, num_leaves=32, reg_alpha=0.1, reg_lambda=1.0, subsample=1.0;, score=0.803 total time=   7.7s\n",
      "[CV 5/5] END colsample_bytree=0.6, learning_rate=0.1, max_depth=8, min_child_weight=5, n_estimators=100, num_leaves=32, reg_alpha=0.1, reg_lambda=1.0, subsample=1.0;, score=0.804 total time=   8.3s\n",
      "[CV 1/5] END colsample_bytree=0.8, learning_rate=0.1, max_depth=8, min_child_weight=5, n_estimators=100, num_leaves=64, reg_alpha=0.01, reg_lambda=0.1, subsample=0.6;, score=0.796 total time=  13.8s\n",
      "[CV 2/5] END colsample_bytree=0.8, learning_rate=0.1, max_depth=8, min_child_weight=5, n_estimators=100, num_leaves=64, reg_alpha=0.01, reg_lambda=0.1, subsample=0.6;, score=0.796 total time=  13.6s\n",
      "[CV 3/5] END colsample_bytree=0.8, learning_rate=0.1, max_depth=8, min_child_weight=5, n_estimators=100, num_leaves=64, reg_alpha=0.01, reg_lambda=0.1, subsample=0.6;, score=0.797 total time=  13.8s\n",
      "[CV 4/5] END colsample_bytree=0.8, learning_rate=0.1, max_depth=8, min_child_weight=5, n_estimators=100, num_leaves=64, reg_alpha=0.01, reg_lambda=0.1, subsample=0.6;, score=0.805 total time=  14.0s\n",
      "[CV 5/5] END colsample_bytree=0.8, learning_rate=0.1, max_depth=8, min_child_weight=5, n_estimators=100, num_leaves=64, reg_alpha=0.01, reg_lambda=0.1, subsample=0.6;, score=0.806 total time=  13.8s\n",
      "[CV 1/5] END colsample_bytree=0.8, learning_rate=0.1, max_depth=6, min_child_weight=5, n_estimators=500, num_leaves=16, reg_alpha=1.0, reg_lambda=1.0, subsample=0.8;, score=0.800 total time=  22.9s\n",
      "[CV 2/5] END colsample_bytree=0.8, learning_rate=0.1, max_depth=6, min_child_weight=5, n_estimators=500, num_leaves=16, reg_alpha=1.0, reg_lambda=1.0, subsample=0.8;, score=0.800 total time=  23.0s\n",
      "[CV 3/5] END colsample_bytree=0.8, learning_rate=0.1, max_depth=6, min_child_weight=5, n_estimators=500, num_leaves=16, reg_alpha=1.0, reg_lambda=1.0, subsample=0.8;, score=0.798 total time=  22.9s\n",
      "[CV 4/5] END colsample_bytree=0.8, learning_rate=0.1, max_depth=6, min_child_weight=5, n_estimators=500, num_leaves=16, reg_alpha=1.0, reg_lambda=1.0, subsample=0.8;, score=0.804 total time=  22.8s\n",
      "[CV 5/5] END colsample_bytree=0.8, learning_rate=0.1, max_depth=6, min_child_weight=5, n_estimators=500, num_leaves=16, reg_alpha=1.0, reg_lambda=1.0, subsample=0.8;, score=0.806 total time=  22.9s\n",
      "[CV 1/5] END colsample_bytree=0.6, learning_rate=0.1, max_depth=12, min_child_weight=5, n_estimators=1000, num_leaves=32, reg_alpha=0.01, reg_lambda=0.01, subsample=0.8;, score=0.804 total time=  54.8s\n",
      "[CV 2/5] END colsample_bytree=0.6, learning_rate=0.1, max_depth=12, min_child_weight=5, n_estimators=1000, num_leaves=32, reg_alpha=0.01, reg_lambda=0.01, subsample=0.8;, score=0.801 total time=  55.6s\n",
      "[CV 3/5] END colsample_bytree=0.6, learning_rate=0.1, max_depth=12, min_child_weight=5, n_estimators=1000, num_leaves=32, reg_alpha=0.01, reg_lambda=0.01, subsample=0.8;, score=0.801 total time=  54.8s\n",
      "[CV 4/5] END colsample_bytree=0.6, learning_rate=0.1, max_depth=12, min_child_weight=5, n_estimators=1000, num_leaves=32, reg_alpha=0.01, reg_lambda=0.01, subsample=0.8;, score=0.808 total time=  54.8s\n",
      "[CV 5/5] END colsample_bytree=0.6, learning_rate=0.1, max_depth=12, min_child_weight=5, n_estimators=1000, num_leaves=32, reg_alpha=0.01, reg_lambda=0.01, subsample=0.8;, score=0.811 total time=  54.7s\n",
      "[CV 1/5] END colsample_bytree=1.0, learning_rate=0.05, max_depth=12, min_child_weight=1, n_estimators=500, num_leaves=16, reg_alpha=0.01, reg_lambda=0.01, subsample=1.0;, score=0.798 total time=  30.8s\n",
      "[CV 2/5] END colsample_bytree=1.0, learning_rate=0.05, max_depth=12, min_child_weight=1, n_estimators=500, num_leaves=16, reg_alpha=0.01, reg_lambda=0.01, subsample=1.0;, score=0.798 total time=  31.1s\n",
      "[CV 3/5] END colsample_bytree=1.0, learning_rate=0.05, max_depth=12, min_child_weight=1, n_estimators=500, num_leaves=16, reg_alpha=0.01, reg_lambda=0.01, subsample=1.0;, score=0.796 total time=  31.3s\n",
      "[CV 4/5] END colsample_bytree=1.0, learning_rate=0.05, max_depth=12, min_child_weight=1, n_estimators=500, num_leaves=16, reg_alpha=0.01, reg_lambda=0.01, subsample=1.0;, score=0.803 total time=  31.2s\n",
      "[CV 5/5] END colsample_bytree=1.0, learning_rate=0.05, max_depth=12, min_child_weight=1, n_estimators=500, num_leaves=16, reg_alpha=0.01, reg_lambda=0.01, subsample=1.0;, score=0.804 total time=  31.1s\n",
      "[CV 1/5] END colsample_bytree=0.6, learning_rate=0.1, max_depth=6, min_child_weight=1, n_estimators=100, num_leaves=32, reg_alpha=1.0, reg_lambda=1.0, subsample=0.8;, score=0.794 total time=   6.4s\n",
      "[CV 2/5] END colsample_bytree=0.6, learning_rate=0.1, max_depth=6, min_child_weight=1, n_estimators=100, num_leaves=32, reg_alpha=1.0, reg_lambda=1.0, subsample=0.8;, score=0.794 total time=   6.4s\n",
      "[CV 3/5] END colsample_bytree=0.6, learning_rate=0.1, max_depth=6, min_child_weight=1, n_estimators=100, num_leaves=32, reg_alpha=1.0, reg_lambda=1.0, subsample=0.8;, score=0.795 total time=   6.5s\n",
      "[CV 4/5] END colsample_bytree=0.6, learning_rate=0.1, max_depth=6, min_child_weight=1, n_estimators=100, num_leaves=32, reg_alpha=1.0, reg_lambda=1.0, subsample=0.8;, score=0.803 total time=   6.5s\n",
      "[CV 5/5] END colsample_bytree=0.6, learning_rate=0.1, max_depth=6, min_child_weight=1, n_estimators=100, num_leaves=32, reg_alpha=1.0, reg_lambda=1.0, subsample=0.8;, score=0.804 total time=   6.6s\n",
      "[CV 1/5] END colsample_bytree=1.0, learning_rate=0.01, max_depth=8, min_child_weight=10, n_estimators=500, num_leaves=16, reg_alpha=0.01, reg_lambda=0.1, subsample=1.0;, score=0.785 total time=  37.8s\n"
     ]
    },
    {
     "name": "stdout",
     "output_type": "stream",
     "text": [
      "[CV 2/5] END colsample_bytree=1.0, learning_rate=0.01, max_depth=8, min_child_weight=10, n_estimators=500, num_leaves=16, reg_alpha=0.01, reg_lambda=0.1, subsample=1.0;, score=0.785 total time=  38.3s\n",
      "[CV 3/5] END colsample_bytree=1.0, learning_rate=0.01, max_depth=8, min_child_weight=10, n_estimators=500, num_leaves=16, reg_alpha=0.01, reg_lambda=0.1, subsample=1.0;, score=0.786 total time=  37.8s\n",
      "[CV 4/5] END colsample_bytree=1.0, learning_rate=0.01, max_depth=8, min_child_weight=10, n_estimators=500, num_leaves=16, reg_alpha=0.01, reg_lambda=0.1, subsample=1.0;, score=0.793 total time=  38.0s\n",
      "[CV 5/5] END colsample_bytree=1.0, learning_rate=0.01, max_depth=8, min_child_weight=10, n_estimators=500, num_leaves=16, reg_alpha=0.01, reg_lambda=0.1, subsample=1.0;, score=0.791 total time=  38.7s\n",
      "[CV 1/5] END colsample_bytree=0.8, learning_rate=0.1, max_depth=6, min_child_weight=5, n_estimators=1000, num_leaves=16, reg_alpha=1.0, reg_lambda=0.1, subsample=1.0;, score=0.800 total time=  44.0s\n",
      "[CV 2/5] END colsample_bytree=0.8, learning_rate=0.1, max_depth=6, min_child_weight=5, n_estimators=1000, num_leaves=16, reg_alpha=1.0, reg_lambda=0.1, subsample=1.0;, score=0.801 total time=  42.6s\n",
      "[CV 3/5] END colsample_bytree=0.8, learning_rate=0.1, max_depth=6, min_child_weight=5, n_estimators=1000, num_leaves=16, reg_alpha=1.0, reg_lambda=0.1, subsample=1.0;, score=0.801 total time=  43.2s\n",
      "[CV 4/5] END colsample_bytree=0.8, learning_rate=0.1, max_depth=6, min_child_weight=5, n_estimators=1000, num_leaves=16, reg_alpha=1.0, reg_lambda=0.1, subsample=1.0;, score=0.808 total time=  42.8s\n",
      "[CV 5/5] END colsample_bytree=0.8, learning_rate=0.1, max_depth=6, min_child_weight=5, n_estimators=1000, num_leaves=16, reg_alpha=1.0, reg_lambda=0.1, subsample=1.0;, score=0.809 total time=  43.0s\n",
      "[CV 1/5] END colsample_bytree=1.0, learning_rate=0.05, max_depth=6, min_child_weight=10, n_estimators=1000, num_leaves=64, reg_alpha=0.1, reg_lambda=0.1, subsample=0.6;, score=0.806 total time= 1.6min\n",
      "[CV 2/5] END colsample_bytree=1.0, learning_rate=0.05, max_depth=6, min_child_weight=10, n_estimators=1000, num_leaves=64, reg_alpha=0.1, reg_lambda=0.1, subsample=0.6;, score=0.801 total time= 1.6min\n",
      "[CV 3/5] END colsample_bytree=1.0, learning_rate=0.05, max_depth=6, min_child_weight=10, n_estimators=1000, num_leaves=64, reg_alpha=0.1, reg_lambda=0.1, subsample=0.6;, score=0.799 total time= 1.6min\n",
      "[CV 4/5] END colsample_bytree=1.0, learning_rate=0.05, max_depth=6, min_child_weight=10, n_estimators=1000, num_leaves=64, reg_alpha=0.1, reg_lambda=0.1, subsample=0.6;, score=0.809 total time= 1.6min\n",
      "[CV 5/5] END colsample_bytree=1.0, learning_rate=0.05, max_depth=6, min_child_weight=10, n_estimators=1000, num_leaves=64, reg_alpha=0.1, reg_lambda=0.1, subsample=0.6;, score=0.813 total time= 1.6min\n",
      "[CV 1/5] END colsample_bytree=0.8, learning_rate=0.01, max_depth=12, min_child_weight=5, n_estimators=100, num_leaves=64, reg_alpha=0.01, reg_lambda=1.0, subsample=0.6;, score=0.766 total time=  17.2s\n",
      "[CV 2/5] END colsample_bytree=0.8, learning_rate=0.01, max_depth=12, min_child_weight=5, n_estimators=100, num_leaves=64, reg_alpha=0.01, reg_lambda=1.0, subsample=0.6;, score=0.766 total time=  17.0s\n",
      "[CV 3/5] END colsample_bytree=0.8, learning_rate=0.01, max_depth=12, min_child_weight=5, n_estimators=100, num_leaves=64, reg_alpha=0.01, reg_lambda=1.0, subsample=0.6;, score=0.767 total time=  17.0s\n",
      "[CV 4/5] END colsample_bytree=0.8, learning_rate=0.01, max_depth=12, min_child_weight=5, n_estimators=100, num_leaves=64, reg_alpha=0.01, reg_lambda=1.0, subsample=0.6;, score=0.777 total time=  16.9s\n",
      "[CV 5/5] END colsample_bytree=0.8, learning_rate=0.01, max_depth=12, min_child_weight=5, n_estimators=100, num_leaves=64, reg_alpha=0.01, reg_lambda=1.0, subsample=0.6;, score=0.774 total time=  17.0s\n",
      "[CV 1/5] END colsample_bytree=0.6, learning_rate=0.01, max_depth=12, min_child_weight=1, n_estimators=1000, num_leaves=64, reg_alpha=0.1, reg_lambda=0.01, subsample=1.0;, score=0.802 total time= 1.8min\n",
      "[CV 2/5] END colsample_bytree=0.6, learning_rate=0.01, max_depth=12, min_child_weight=1, n_estimators=1000, num_leaves=64, reg_alpha=0.1, reg_lambda=0.01, subsample=1.0;, score=0.799 total time= 1.8min\n",
      "[CV 3/5] END colsample_bytree=0.6, learning_rate=0.01, max_depth=12, min_child_weight=1, n_estimators=1000, num_leaves=64, reg_alpha=0.1, reg_lambda=0.01, subsample=1.0;, score=0.799 total time= 1.8min\n",
      "[CV 4/5] END colsample_bytree=0.6, learning_rate=0.01, max_depth=12, min_child_weight=1, n_estimators=1000, num_leaves=64, reg_alpha=0.1, reg_lambda=0.01, subsample=1.0;, score=0.807 total time= 1.8min\n",
      "[CV 5/5] END colsample_bytree=0.6, learning_rate=0.01, max_depth=12, min_child_weight=1, n_estimators=1000, num_leaves=64, reg_alpha=0.1, reg_lambda=0.01, subsample=1.0;, score=0.809 total time= 1.9min\n",
      "[CV 1/5] END colsample_bytree=0.6, learning_rate=0.01, max_depth=8, min_child_weight=1, n_estimators=100, num_leaves=32, reg_alpha=0.1, reg_lambda=0.1, subsample=0.8;, score=0.760 total time=   8.1s\n",
      "[CV 2/5] END colsample_bytree=0.6, learning_rate=0.01, max_depth=8, min_child_weight=1, n_estimators=100, num_leaves=32, reg_alpha=0.1, reg_lambda=0.1, subsample=0.8;, score=0.758 total time=   8.0s\n",
      "[CV 3/5] END colsample_bytree=0.6, learning_rate=0.01, max_depth=8, min_child_weight=1, n_estimators=100, num_leaves=32, reg_alpha=0.1, reg_lambda=0.1, subsample=0.8;, score=0.760 total time=   8.1s\n",
      "[CV 4/5] END colsample_bytree=0.6, learning_rate=0.01, max_depth=8, min_child_weight=1, n_estimators=100, num_leaves=32, reg_alpha=0.1, reg_lambda=0.1, subsample=0.8;, score=0.771 total time=   8.0s\n",
      "[CV 5/5] END colsample_bytree=0.6, learning_rate=0.01, max_depth=8, min_child_weight=1, n_estimators=100, num_leaves=32, reg_alpha=0.1, reg_lambda=0.1, subsample=0.8;, score=0.767 total time=   8.1s\n",
      "[CV 1/5] END colsample_bytree=0.6, learning_rate=0.05, max_depth=6, min_child_weight=5, n_estimators=100, num_leaves=16, reg_alpha=0.01, reg_lambda=0.1, subsample=0.6;, score=0.785 total time=   5.2s\n",
      "[CV 2/5] END colsample_bytree=0.6, learning_rate=0.05, max_depth=6, min_child_weight=5, n_estimators=100, num_leaves=16, reg_alpha=0.01, reg_lambda=0.1, subsample=0.6;, score=0.784 total time=   5.2s\n",
      "[CV 3/5] END colsample_bytree=0.6, learning_rate=0.05, max_depth=6, min_child_weight=5, n_estimators=100, num_leaves=16, reg_alpha=0.01, reg_lambda=0.1, subsample=0.6;, score=0.784 total time=   5.3s\n",
      "[CV 4/5] END colsample_bytree=0.6, learning_rate=0.05, max_depth=6, min_child_weight=5, n_estimators=100, num_leaves=16, reg_alpha=0.01, reg_lambda=0.1, subsample=0.6;, score=0.792 total time=   5.3s\n",
      "[CV 5/5] END colsample_bytree=0.6, learning_rate=0.05, max_depth=6, min_child_weight=5, n_estimators=100, num_leaves=16, reg_alpha=0.01, reg_lambda=0.1, subsample=0.6;, score=0.792 total time=   5.2s\n",
      "[CV 1/5] END colsample_bytree=0.6, learning_rate=0.1, max_depth=8, min_child_weight=1, n_estimators=1000, num_leaves=32, reg_alpha=1.0, reg_lambda=0.01, subsample=0.8;, score=0.807 total time=  54.0s\n",
      "[CV 2/5] END colsample_bytree=0.6, learning_rate=0.1, max_depth=8, min_child_weight=1, n_estimators=1000, num_leaves=32, reg_alpha=1.0, reg_lambda=0.01, subsample=0.8;, score=0.799 total time=  53.7s\n",
      "[CV 3/5] END colsample_bytree=0.6, learning_rate=0.1, max_depth=8, min_child_weight=1, n_estimators=1000, num_leaves=32, reg_alpha=1.0, reg_lambda=0.01, subsample=0.8;, score=0.801 total time=  54.6s\n",
      "[CV 4/5] END colsample_bytree=0.6, learning_rate=0.1, max_depth=8, min_child_weight=1, n_estimators=1000, num_leaves=32, reg_alpha=1.0, reg_lambda=0.01, subsample=0.8;, score=0.808 total time=  53.4s\n",
      "[CV 5/5] END colsample_bytree=0.6, learning_rate=0.1, max_depth=8, min_child_weight=1, n_estimators=1000, num_leaves=32, reg_alpha=1.0, reg_lambda=0.01, subsample=0.8;, score=0.810 total time=  54.2s\n",
      "[CV 1/5] END colsample_bytree=0.6, learning_rate=0.1, max_depth=6, min_child_weight=10, n_estimators=1000, num_leaves=32, reg_alpha=0.01, reg_lambda=0.01, subsample=1.0;, score=0.807 total time=  44.8s\n",
      "[CV 2/5] END colsample_bytree=0.6, learning_rate=0.1, max_depth=6, min_child_weight=10, n_estimators=1000, num_leaves=32, reg_alpha=0.01, reg_lambda=0.01, subsample=1.0;, score=0.801 total time=  44.8s\n"
     ]
    },
    {
     "name": "stdout",
     "output_type": "stream",
     "text": [
      "[CV 3/5] END colsample_bytree=0.6, learning_rate=0.1, max_depth=6, min_child_weight=10, n_estimators=1000, num_leaves=32, reg_alpha=0.01, reg_lambda=0.01, subsample=1.0;, score=0.800 total time=  45.2s\n",
      "[CV 4/5] END colsample_bytree=0.6, learning_rate=0.1, max_depth=6, min_child_weight=10, n_estimators=1000, num_leaves=32, reg_alpha=0.01, reg_lambda=0.01, subsample=1.0;, score=0.808 total time=  47.6s\n",
      "[CV 5/5] END colsample_bytree=0.6, learning_rate=0.1, max_depth=6, min_child_weight=10, n_estimators=1000, num_leaves=32, reg_alpha=0.01, reg_lambda=0.01, subsample=1.0;, score=0.810 total time=  46.0s\n",
      "[CV 1/5] END colsample_bytree=0.6, learning_rate=0.1, max_depth=12, min_child_weight=10, n_estimators=500, num_leaves=16, reg_alpha=1.0, reg_lambda=0.1, subsample=0.6;, score=0.799 total time=  18.8s\n",
      "[CV 2/5] END colsample_bytree=0.6, learning_rate=0.1, max_depth=12, min_child_weight=10, n_estimators=500, num_leaves=16, reg_alpha=1.0, reg_lambda=0.1, subsample=0.6;, score=0.800 total time=  18.6s\n",
      "[CV 3/5] END colsample_bytree=0.6, learning_rate=0.1, max_depth=12, min_child_weight=10, n_estimators=500, num_leaves=16, reg_alpha=1.0, reg_lambda=0.1, subsample=0.6;, score=0.798 total time=  18.6s\n",
      "[CV 4/5] END colsample_bytree=0.6, learning_rate=0.1, max_depth=12, min_child_weight=10, n_estimators=500, num_leaves=16, reg_alpha=1.0, reg_lambda=0.1, subsample=0.6;, score=0.804 total time=  19.1s\n",
      "[CV 5/5] END colsample_bytree=0.6, learning_rate=0.1, max_depth=12, min_child_weight=10, n_estimators=500, num_leaves=16, reg_alpha=1.0, reg_lambda=0.1, subsample=0.6;, score=0.808 total time=  18.7s\n",
      "[CV 1/5] END colsample_bytree=1.0, learning_rate=0.1, max_depth=6, min_child_weight=1, n_estimators=100, num_leaves=64, reg_alpha=1.0, reg_lambda=0.01, subsample=0.6;, score=0.795 total time=  12.2s\n",
      "[CV 2/5] END colsample_bytree=1.0, learning_rate=0.1, max_depth=6, min_child_weight=1, n_estimators=100, num_leaves=64, reg_alpha=1.0, reg_lambda=0.01, subsample=0.6;, score=0.795 total time=  12.9s\n",
      "[CV 3/5] END colsample_bytree=1.0, learning_rate=0.1, max_depth=6, min_child_weight=1, n_estimators=100, num_leaves=64, reg_alpha=1.0, reg_lambda=0.01, subsample=0.6;, score=0.794 total time=  13.8s\n",
      "[CV 4/5] END colsample_bytree=1.0, learning_rate=0.1, max_depth=6, min_child_weight=1, n_estimators=100, num_leaves=64, reg_alpha=1.0, reg_lambda=0.01, subsample=0.6;, score=0.803 total time=  12.1s\n",
      "[CV 5/5] END colsample_bytree=1.0, learning_rate=0.1, max_depth=6, min_child_weight=1, n_estimators=100, num_leaves=64, reg_alpha=1.0, reg_lambda=0.01, subsample=0.6;, score=0.805 total time=  12.3s\n",
      "[CV 1/5] END colsample_bytree=0.6, learning_rate=0.1, max_depth=12, min_child_weight=10, n_estimators=100, num_leaves=64, reg_alpha=1.0, reg_lambda=1.0, subsample=0.6;, score=0.798 total time=  11.6s\n",
      "[CV 2/5] END colsample_bytree=0.6, learning_rate=0.1, max_depth=12, min_child_weight=10, n_estimators=100, num_leaves=64, reg_alpha=1.0, reg_lambda=1.0, subsample=0.6;, score=0.797 total time=  11.6s\n",
      "[CV 3/5] END colsample_bytree=0.6, learning_rate=0.1, max_depth=12, min_child_weight=10, n_estimators=100, num_leaves=64, reg_alpha=1.0, reg_lambda=1.0, subsample=0.6;, score=0.796 total time=  11.8s\n",
      "[CV 4/5] END colsample_bytree=0.6, learning_rate=0.1, max_depth=12, min_child_weight=10, n_estimators=100, num_leaves=64, reg_alpha=1.0, reg_lambda=1.0, subsample=0.6;, score=0.805 total time=  11.7s\n",
      "[CV 5/5] END colsample_bytree=0.6, learning_rate=0.1, max_depth=12, min_child_weight=10, n_estimators=100, num_leaves=64, reg_alpha=1.0, reg_lambda=1.0, subsample=0.6;, score=0.808 total time=  11.6s\n",
      "[CV 1/5] END colsample_bytree=0.8, learning_rate=0.01, max_depth=12, min_child_weight=10, n_estimators=500, num_leaves=64, reg_alpha=1.0, reg_lambda=1.0, subsample=1.0;, score=0.793 total time= 1.3min\n",
      "[CV 2/5] END colsample_bytree=0.8, learning_rate=0.01, max_depth=12, min_child_weight=10, n_estimators=500, num_leaves=64, reg_alpha=1.0, reg_lambda=1.0, subsample=1.0;, score=0.793 total time= 1.3min\n",
      "[CV 3/5] END colsample_bytree=0.8, learning_rate=0.01, max_depth=12, min_child_weight=10, n_estimators=500, num_leaves=64, reg_alpha=1.0, reg_lambda=1.0, subsample=1.0;, score=0.794 total time= 1.3min\n",
      "[CV 4/5] END colsample_bytree=0.8, learning_rate=0.01, max_depth=12, min_child_weight=10, n_estimators=500, num_leaves=64, reg_alpha=1.0, reg_lambda=1.0, subsample=1.0;, score=0.802 total time= 1.3min\n",
      "[CV 5/5] END colsample_bytree=0.8, learning_rate=0.01, max_depth=12, min_child_weight=10, n_estimators=500, num_leaves=64, reg_alpha=1.0, reg_lambda=1.0, subsample=1.0;, score=0.801 total time= 1.3min\n",
      "[CV 1/5] END colsample_bytree=1.0, learning_rate=0.1, max_depth=8, min_child_weight=10, n_estimators=1000, num_leaves=64, reg_alpha=0.1, reg_lambda=1.0, subsample=0.6;, score=0.805 total time= 2.0min\n",
      "[CV 2/5] END colsample_bytree=1.0, learning_rate=0.1, max_depth=8, min_child_weight=10, n_estimators=1000, num_leaves=64, reg_alpha=0.1, reg_lambda=1.0, subsample=0.6;, score=0.804 total time= 2.0min\n",
      "[CV 3/5] END colsample_bytree=1.0, learning_rate=0.1, max_depth=8, min_child_weight=10, n_estimators=1000, num_leaves=64, reg_alpha=0.1, reg_lambda=1.0, subsample=0.6;, score=0.802 total time= 2.0min\n",
      "[CV 4/5] END colsample_bytree=1.0, learning_rate=0.1, max_depth=8, min_child_weight=10, n_estimators=1000, num_leaves=64, reg_alpha=0.1, reg_lambda=1.0, subsample=0.6;, score=0.811 total time= 2.0min\n",
      "[CV 5/5] END colsample_bytree=1.0, learning_rate=0.1, max_depth=8, min_child_weight=10, n_estimators=1000, num_leaves=64, reg_alpha=0.1, reg_lambda=1.0, subsample=0.6;, score=0.811 total time= 2.1min\n",
      "[CV 1/5] END colsample_bytree=1.0, learning_rate=0.1, max_depth=8, min_child_weight=1, n_estimators=1000, num_leaves=32, reg_alpha=0.1, reg_lambda=1.0, subsample=1.0;, score=0.803 total time= 1.5min\n",
      "[CV 2/5] END colsample_bytree=1.0, learning_rate=0.1, max_depth=8, min_child_weight=1, n_estimators=1000, num_leaves=32, reg_alpha=0.1, reg_lambda=1.0, subsample=1.0;, score=0.800 total time= 1.5min\n",
      "[CV 3/5] END colsample_bytree=1.0, learning_rate=0.1, max_depth=8, min_child_weight=1, n_estimators=1000, num_leaves=32, reg_alpha=0.1, reg_lambda=1.0, subsample=1.0;, score=0.802 total time= 1.5min\n",
      "[CV 4/5] END colsample_bytree=1.0, learning_rate=0.1, max_depth=8, min_child_weight=1, n_estimators=1000, num_leaves=32, reg_alpha=0.1, reg_lambda=1.0, subsample=1.0;, score=0.807 total time= 1.5min\n",
      "[CV 5/5] END colsample_bytree=1.0, learning_rate=0.1, max_depth=8, min_child_weight=1, n_estimators=1000, num_leaves=32, reg_alpha=0.1, reg_lambda=1.0, subsample=1.0;, score=0.809 total time= 1.5min\n",
      "[CV 1/5] END colsample_bytree=0.6, learning_rate=0.05, max_depth=6, min_child_weight=10, n_estimators=100, num_leaves=64, reg_alpha=1.0, reg_lambda=0.01, subsample=1.0;, score=0.792 total time=   7.8s\n",
      "[CV 2/5] END colsample_bytree=0.6, learning_rate=0.05, max_depth=6, min_child_weight=10, n_estimators=100, num_leaves=64, reg_alpha=1.0, reg_lambda=0.01, subsample=1.0;, score=0.792 total time=   7.8s\n",
      "[CV 3/5] END colsample_bytree=0.6, learning_rate=0.05, max_depth=6, min_child_weight=10, n_estimators=100, num_leaves=64, reg_alpha=1.0, reg_lambda=0.01, subsample=1.0;, score=0.793 total time=   7.7s\n",
      "[CV 4/5] END colsample_bytree=0.6, learning_rate=0.05, max_depth=6, min_child_weight=10, n_estimators=100, num_leaves=64, reg_alpha=1.0, reg_lambda=0.01, subsample=1.0;, score=0.801 total time=   7.8s\n",
      "[CV 5/5] END colsample_bytree=0.6, learning_rate=0.05, max_depth=6, min_child_weight=10, n_estimators=100, num_leaves=64, reg_alpha=1.0, reg_lambda=0.01, subsample=1.0;, score=0.797 total time=   7.8s\n",
      "[CV 1/5] END colsample_bytree=0.6, learning_rate=0.01, max_depth=6, min_child_weight=1, n_estimators=1000, num_leaves=32, reg_alpha=0.01, reg_lambda=0.01, subsample=0.6;, score=0.797 total time=  54.8s\n",
      "[CV 2/5] END colsample_bytree=0.6, learning_rate=0.01, max_depth=6, min_child_weight=1, n_estimators=1000, num_leaves=32, reg_alpha=0.01, reg_lambda=0.01, subsample=0.6;, score=0.795 total time=  54.7s\n",
      "[CV 3/5] END colsample_bytree=0.6, learning_rate=0.01, max_depth=6, min_child_weight=1, n_estimators=1000, num_leaves=32, reg_alpha=0.01, reg_lambda=0.01, subsample=0.6;, score=0.796 total time=  54.8s\n"
     ]
    },
    {
     "name": "stdout",
     "output_type": "stream",
     "text": [
      "[CV 4/5] END colsample_bytree=0.6, learning_rate=0.01, max_depth=6, min_child_weight=1, n_estimators=1000, num_leaves=32, reg_alpha=0.01, reg_lambda=0.01, subsample=0.6;, score=0.803 total time=  54.5s\n",
      "[CV 5/5] END colsample_bytree=0.6, learning_rate=0.01, max_depth=6, min_child_weight=1, n_estimators=1000, num_leaves=32, reg_alpha=0.01, reg_lambda=0.01, subsample=0.6;, score=0.805 total time=  54.9s\n",
      "[CV 1/5] END colsample_bytree=1.0, learning_rate=0.1, max_depth=12, min_child_weight=1, n_estimators=1000, num_leaves=16, reg_alpha=0.01, reg_lambda=0.01, subsample=1.0;, score=0.805 total time=  55.8s\n",
      "[CV 2/5] END colsample_bytree=1.0, learning_rate=0.1, max_depth=12, min_child_weight=1, n_estimators=1000, num_leaves=16, reg_alpha=0.01, reg_lambda=0.01, subsample=1.0;, score=0.801 total time=  55.4s\n",
      "[CV 3/5] END colsample_bytree=1.0, learning_rate=0.1, max_depth=12, min_child_weight=1, n_estimators=1000, num_leaves=16, reg_alpha=0.01, reg_lambda=0.01, subsample=1.0;, score=0.801 total time=  55.7s\n",
      "[CV 4/5] END colsample_bytree=1.0, learning_rate=0.1, max_depth=12, min_child_weight=1, n_estimators=1000, num_leaves=16, reg_alpha=0.01, reg_lambda=0.01, subsample=1.0;, score=0.804 total time=  55.5s\n",
      "[CV 5/5] END colsample_bytree=1.0, learning_rate=0.1, max_depth=12, min_child_weight=1, n_estimators=1000, num_leaves=16, reg_alpha=0.01, reg_lambda=0.01, subsample=1.0;, score=0.808 total time=  55.6s\n",
      "[CV 1/5] END colsample_bytree=0.6, learning_rate=0.05, max_depth=8, min_child_weight=1, n_estimators=500, num_leaves=16, reg_alpha=0.01, reg_lambda=1.0, subsample=1.0;, score=0.801 total time=  19.3s\n",
      "[CV 2/5] END colsample_bytree=0.6, learning_rate=0.05, max_depth=8, min_child_weight=1, n_estimators=500, num_leaves=16, reg_alpha=0.01, reg_lambda=1.0, subsample=1.0;, score=0.796 total time=  19.2s\n",
      "[CV 3/5] END colsample_bytree=0.6, learning_rate=0.05, max_depth=8, min_child_weight=1, n_estimators=500, num_leaves=16, reg_alpha=0.01, reg_lambda=1.0, subsample=1.0;, score=0.797 total time=  19.6s\n",
      "[CV 4/5] END colsample_bytree=0.6, learning_rate=0.05, max_depth=8, min_child_weight=1, n_estimators=500, num_leaves=16, reg_alpha=0.01, reg_lambda=1.0, subsample=1.0;, score=0.804 total time=  19.3s\n",
      "[CV 5/5] END colsample_bytree=0.6, learning_rate=0.05, max_depth=8, min_child_weight=1, n_estimators=500, num_leaves=16, reg_alpha=0.01, reg_lambda=1.0, subsample=1.0;, score=0.807 total time=  19.3s\n",
      "[CV 1/5] END colsample_bytree=0.6, learning_rate=0.01, max_depth=12, min_child_weight=5, n_estimators=1000, num_leaves=32, reg_alpha=0.1, reg_lambda=0.01, subsample=0.6;, score=0.799 total time= 1.1min\n",
      "[CV 2/5] END colsample_bytree=0.6, learning_rate=0.01, max_depth=12, min_child_weight=5, n_estimators=1000, num_leaves=32, reg_alpha=0.1, reg_lambda=0.01, subsample=0.6;, score=0.797 total time= 1.1min\n",
      "[CV 3/5] END colsample_bytree=0.6, learning_rate=0.01, max_depth=12, min_child_weight=5, n_estimators=1000, num_leaves=32, reg_alpha=0.1, reg_lambda=0.01, subsample=0.6;, score=0.797 total time= 1.1min\n",
      "[CV 4/5] END colsample_bytree=0.6, learning_rate=0.01, max_depth=12, min_child_weight=5, n_estimators=1000, num_leaves=32, reg_alpha=0.1, reg_lambda=0.01, subsample=0.6;, score=0.804 total time= 1.1min\n",
      "[CV 5/5] END colsample_bytree=0.6, learning_rate=0.01, max_depth=12, min_child_weight=5, n_estimators=1000, num_leaves=32, reg_alpha=0.1, reg_lambda=0.01, subsample=0.6;, score=0.805 total time= 1.1min\n",
      "[CV 1/5] END colsample_bytree=0.6, learning_rate=0.01, max_depth=8, min_child_weight=10, n_estimators=100, num_leaves=32, reg_alpha=1.0, reg_lambda=1.0, subsample=0.8;, score=0.761 total time=   7.9s\n",
      "[CV 2/5] END colsample_bytree=0.6, learning_rate=0.01, max_depth=8, min_child_weight=10, n_estimators=100, num_leaves=32, reg_alpha=1.0, reg_lambda=1.0, subsample=0.8;, score=0.758 total time=   7.8s\n",
      "[CV 3/5] END colsample_bytree=0.6, learning_rate=0.01, max_depth=8, min_child_weight=10, n_estimators=100, num_leaves=32, reg_alpha=1.0, reg_lambda=1.0, subsample=0.8;, score=0.761 total time=   8.0s\n",
      "[CV 4/5] END colsample_bytree=0.6, learning_rate=0.01, max_depth=8, min_child_weight=10, n_estimators=100, num_leaves=32, reg_alpha=1.0, reg_lambda=1.0, subsample=0.8;, score=0.771 total time=   7.9s\n",
      "[CV 5/5] END colsample_bytree=0.6, learning_rate=0.01, max_depth=8, min_child_weight=10, n_estimators=100, num_leaves=32, reg_alpha=1.0, reg_lambda=1.0, subsample=0.8;, score=0.767 total time=   7.9s\n",
      "[CV 1/5] END colsample_bytree=1.0, learning_rate=0.1, max_depth=6, min_child_weight=5, n_estimators=1000, num_leaves=16, reg_alpha=0.1, reg_lambda=0.01, subsample=1.0;, score=0.801 total time=  51.6s\n",
      "[CV 2/5] END colsample_bytree=1.0, learning_rate=0.1, max_depth=6, min_child_weight=5, n_estimators=1000, num_leaves=16, reg_alpha=0.1, reg_lambda=0.01, subsample=1.0;, score=0.802 total time=  51.5s\n",
      "[CV 3/5] END colsample_bytree=1.0, learning_rate=0.1, max_depth=6, min_child_weight=5, n_estimators=1000, num_leaves=16, reg_alpha=0.1, reg_lambda=0.01, subsample=1.0;, score=0.800 total time=  51.8s\n",
      "[CV 4/5] END colsample_bytree=1.0, learning_rate=0.1, max_depth=6, min_child_weight=5, n_estimators=1000, num_leaves=16, reg_alpha=0.1, reg_lambda=0.01, subsample=1.0;, score=0.807 total time=  51.8s\n",
      "[CV 5/5] END colsample_bytree=1.0, learning_rate=0.1, max_depth=6, min_child_weight=5, n_estimators=1000, num_leaves=16, reg_alpha=0.1, reg_lambda=0.01, subsample=1.0;, score=0.807 total time=  51.7s\n",
      "[CV 1/5] END colsample_bytree=0.8, learning_rate=0.1, max_depth=6, min_child_weight=5, n_estimators=1000, num_leaves=64, reg_alpha=0.01, reg_lambda=0.01, subsample=0.6;, score=0.805 total time= 1.3min\n",
      "[CV 2/5] END colsample_bytree=0.8, learning_rate=0.1, max_depth=6, min_child_weight=5, n_estimators=1000, num_leaves=64, reg_alpha=0.01, reg_lambda=0.01, subsample=0.6;, score=0.803 total time= 1.3min\n",
      "[CV 3/5] END colsample_bytree=0.8, learning_rate=0.1, max_depth=6, min_child_weight=5, n_estimators=1000, num_leaves=64, reg_alpha=0.01, reg_lambda=0.01, subsample=0.6;, score=0.803 total time= 1.3min\n",
      "[CV 4/5] END colsample_bytree=0.8, learning_rate=0.1, max_depth=6, min_child_weight=5, n_estimators=1000, num_leaves=64, reg_alpha=0.01, reg_lambda=0.01, subsample=0.6;, score=0.810 total time= 1.3min\n",
      "[CV 5/5] END colsample_bytree=0.8, learning_rate=0.1, max_depth=6, min_child_weight=5, n_estimators=1000, num_leaves=64, reg_alpha=0.01, reg_lambda=0.01, subsample=0.6;, score=0.811 total time= 1.3min\n",
      "[CV 1/5] END colsample_bytree=0.6, learning_rate=0.05, max_depth=8, min_child_weight=10, n_estimators=500, num_leaves=64, reg_alpha=1.0, reg_lambda=0.01, subsample=0.8;, score=0.805 total time=  41.7s\n",
      "[CV 2/5] END colsample_bytree=0.6, learning_rate=0.05, max_depth=8, min_child_weight=10, n_estimators=500, num_leaves=64, reg_alpha=1.0, reg_lambda=0.01, subsample=0.8;, score=0.801 total time=  41.8s\n",
      "[CV 3/5] END colsample_bytree=0.6, learning_rate=0.05, max_depth=8, min_child_weight=10, n_estimators=500, num_leaves=64, reg_alpha=1.0, reg_lambda=0.01, subsample=0.8;, score=0.800 total time=  41.8s\n",
      "[CV 4/5] END colsample_bytree=0.6, learning_rate=0.05, max_depth=8, min_child_weight=10, n_estimators=500, num_leaves=64, reg_alpha=1.0, reg_lambda=0.01, subsample=0.8;, score=0.809 total time=  42.3s\n",
      "[CV 5/5] END colsample_bytree=0.6, learning_rate=0.05, max_depth=8, min_child_weight=10, n_estimators=500, num_leaves=64, reg_alpha=1.0, reg_lambda=0.01, subsample=0.8;, score=0.811 total time=  42.0s\n",
      "[CV 1/5] END colsample_bytree=0.6, learning_rate=0.05, max_depth=12, min_child_weight=5, n_estimators=100, num_leaves=16, reg_alpha=0.01, reg_lambda=0.01, subsample=1.0;, score=0.785 total time=   5.4s\n",
      "[CV 2/5] END colsample_bytree=0.6, learning_rate=0.05, max_depth=12, min_child_weight=5, n_estimators=100, num_leaves=16, reg_alpha=0.01, reg_lambda=0.01, subsample=1.0;, score=0.783 total time=   5.3s\n",
      "[CV 3/5] END colsample_bytree=0.6, learning_rate=0.05, max_depth=12, min_child_weight=5, n_estimators=100, num_leaves=16, reg_alpha=0.01, reg_lambda=0.01, subsample=1.0;, score=0.786 total time=   5.3s\n",
      "[CV 4/5] END colsample_bytree=0.6, learning_rate=0.05, max_depth=12, min_child_weight=5, n_estimators=100, num_leaves=16, reg_alpha=0.01, reg_lambda=0.01, subsample=1.0;, score=0.792 total time=   5.3s\n"
     ]
    },
    {
     "name": "stdout",
     "output_type": "stream",
     "text": [
      "[CV 5/5] END colsample_bytree=0.6, learning_rate=0.05, max_depth=12, min_child_weight=5, n_estimators=100, num_leaves=16, reg_alpha=0.01, reg_lambda=0.01, subsample=1.0;, score=0.793 total time=   5.3s\n",
      "[CV 1/5] END colsample_bytree=0.8, learning_rate=0.05, max_depth=6, min_child_weight=1, n_estimators=500, num_leaves=16, reg_alpha=0.1, reg_lambda=0.01, subsample=0.6;, score=0.800 total time=  23.7s\n",
      "[CV 2/5] END colsample_bytree=0.8, learning_rate=0.05, max_depth=6, min_child_weight=1, n_estimators=500, num_leaves=16, reg_alpha=0.1, reg_lambda=0.01, subsample=0.6;, score=0.797 total time=  23.8s\n",
      "[CV 3/5] END colsample_bytree=0.8, learning_rate=0.05, max_depth=6, min_child_weight=1, n_estimators=500, num_leaves=16, reg_alpha=0.1, reg_lambda=0.01, subsample=0.6;, score=0.796 total time=  23.8s\n",
      "[CV 4/5] END colsample_bytree=0.8, learning_rate=0.05, max_depth=6, min_child_weight=1, n_estimators=500, num_leaves=16, reg_alpha=0.1, reg_lambda=0.01, subsample=0.6;, score=0.802 total time=  23.6s\n",
      "[CV 5/5] END colsample_bytree=0.8, learning_rate=0.05, max_depth=6, min_child_weight=1, n_estimators=500, num_leaves=16, reg_alpha=0.1, reg_lambda=0.01, subsample=0.6;, score=0.807 total time=  23.8s\n",
      "[CV 1/5] END colsample_bytree=1.0, learning_rate=0.01, max_depth=8, min_child_weight=10, n_estimators=1000, num_leaves=16, reg_alpha=0.01, reg_lambda=0.1, subsample=0.6;, score=0.794 total time= 1.2min\n",
      "[CV 2/5] END colsample_bytree=1.0, learning_rate=0.01, max_depth=8, min_child_weight=10, n_estimators=1000, num_leaves=16, reg_alpha=0.01, reg_lambda=0.1, subsample=0.6;, score=0.794 total time= 1.2min\n",
      "[CV 3/5] END colsample_bytree=1.0, learning_rate=0.01, max_depth=8, min_child_weight=10, n_estimators=1000, num_leaves=16, reg_alpha=0.01, reg_lambda=0.1, subsample=0.6;, score=0.793 total time= 1.2min\n",
      "[CV 4/5] END colsample_bytree=1.0, learning_rate=0.01, max_depth=8, min_child_weight=10, n_estimators=1000, num_leaves=16, reg_alpha=0.01, reg_lambda=0.1, subsample=0.6;, score=0.800 total time= 1.2min\n",
      "[CV 5/5] END colsample_bytree=1.0, learning_rate=0.01, max_depth=8, min_child_weight=10, n_estimators=1000, num_leaves=16, reg_alpha=0.01, reg_lambda=0.1, subsample=0.6;, score=0.802 total time= 1.2min\n",
      "[CV 1/5] END colsample_bytree=0.8, learning_rate=0.05, max_depth=12, min_child_weight=5, n_estimators=1000, num_leaves=16, reg_alpha=0.1, reg_lambda=1.0, subsample=0.8;, score=0.802 total time=  47.3s\n",
      "[CV 2/5] END colsample_bytree=0.8, learning_rate=0.05, max_depth=12, min_child_weight=5, n_estimators=1000, num_leaves=16, reg_alpha=0.1, reg_lambda=1.0, subsample=0.8;, score=0.799 total time=  47.3s\n",
      "[CV 3/5] END colsample_bytree=0.8, learning_rate=0.05, max_depth=12, min_child_weight=5, n_estimators=1000, num_leaves=16, reg_alpha=0.1, reg_lambda=1.0, subsample=0.8;, score=0.798 total time=  47.1s\n",
      "[CV 4/5] END colsample_bytree=0.8, learning_rate=0.05, max_depth=12, min_child_weight=5, n_estimators=1000, num_leaves=16, reg_alpha=0.1, reg_lambda=1.0, subsample=0.8;, score=0.808 total time=  47.0s\n",
      "[CV 5/5] END colsample_bytree=0.8, learning_rate=0.05, max_depth=12, min_child_weight=5, n_estimators=1000, num_leaves=16, reg_alpha=0.1, reg_lambda=1.0, subsample=0.8;, score=0.809 total time=  47.1s\n",
      "[CV 1/5] END colsample_bytree=0.8, learning_rate=0.05, max_depth=6, min_child_weight=1, n_estimators=100, num_leaves=32, reg_alpha=0.1, reg_lambda=1.0, subsample=1.0;, score=0.789 total time=   9.0s\n",
      "[CV 2/5] END colsample_bytree=0.8, learning_rate=0.05, max_depth=6, min_child_weight=1, n_estimators=100, num_leaves=32, reg_alpha=0.1, reg_lambda=1.0, subsample=1.0;, score=0.789 total time=   9.1s\n",
      "[CV 3/5] END colsample_bytree=0.8, learning_rate=0.05, max_depth=6, min_child_weight=1, n_estimators=100, num_leaves=32, reg_alpha=0.1, reg_lambda=1.0, subsample=1.0;, score=0.791 total time=   9.0s\n",
      "[CV 4/5] END colsample_bytree=0.8, learning_rate=0.05, max_depth=6, min_child_weight=1, n_estimators=100, num_leaves=32, reg_alpha=0.1, reg_lambda=1.0, subsample=1.0;, score=0.797 total time=   9.0s\n",
      "[CV 5/5] END colsample_bytree=0.8, learning_rate=0.05, max_depth=6, min_child_weight=1, n_estimators=100, num_leaves=32, reg_alpha=0.1, reg_lambda=1.0, subsample=1.0;, score=0.797 total time=   9.0s\n",
      "[CV 1/5] END colsample_bytree=0.8, learning_rate=0.05, max_depth=12, min_child_weight=5, n_estimators=500, num_leaves=16, reg_alpha=1.0, reg_lambda=1.0, subsample=0.8;, score=0.798 total time=  26.0s\n",
      "[CV 2/5] END colsample_bytree=0.8, learning_rate=0.05, max_depth=12, min_child_weight=5, n_estimators=500, num_leaves=16, reg_alpha=1.0, reg_lambda=1.0, subsample=0.8;, score=0.798 total time=  26.6s\n",
      "[CV 3/5] END colsample_bytree=0.8, learning_rate=0.05, max_depth=12, min_child_weight=5, n_estimators=500, num_leaves=16, reg_alpha=1.0, reg_lambda=1.0, subsample=0.8;, score=0.798 total time=  26.2s\n",
      "[CV 4/5] END colsample_bytree=0.8, learning_rate=0.05, max_depth=12, min_child_weight=5, n_estimators=500, num_leaves=16, reg_alpha=1.0, reg_lambda=1.0, subsample=0.8;, score=0.803 total time=  26.1s\n",
      "[CV 5/5] END colsample_bytree=0.8, learning_rate=0.05, max_depth=12, min_child_weight=5, n_estimators=500, num_leaves=16, reg_alpha=1.0, reg_lambda=1.0, subsample=0.8;, score=0.805 total time=  26.2s\n",
      "[CV 1/5] END colsample_bytree=0.8, learning_rate=0.05, max_depth=12, min_child_weight=1, n_estimators=100, num_leaves=32, reg_alpha=1.0, reg_lambda=0.01, subsample=1.0;, score=0.788 total time=  10.6s\n",
      "[CV 2/5] END colsample_bytree=0.8, learning_rate=0.05, max_depth=12, min_child_weight=1, n_estimators=100, num_leaves=32, reg_alpha=1.0, reg_lambda=0.01, subsample=1.0;, score=0.789 total time=  10.7s\n",
      "[CV 3/5] END colsample_bytree=0.8, learning_rate=0.05, max_depth=12, min_child_weight=1, n_estimators=100, num_leaves=32, reg_alpha=1.0, reg_lambda=0.01, subsample=1.0;, score=0.789 total time=  10.7s\n",
      "[CV 4/5] END colsample_bytree=0.8, learning_rate=0.05, max_depth=12, min_child_weight=1, n_estimators=100, num_leaves=32, reg_alpha=1.0, reg_lambda=0.01, subsample=1.0;, score=0.796 total time=  10.7s\n",
      "[CV 5/5] END colsample_bytree=0.8, learning_rate=0.05, max_depth=12, min_child_weight=1, n_estimators=100, num_leaves=32, reg_alpha=1.0, reg_lambda=0.01, subsample=1.0;, score=0.798 total time=  10.8s\n",
      "[CV 1/5] END colsample_bytree=0.8, learning_rate=0.01, max_depth=12, min_child_weight=5, n_estimators=1000, num_leaves=16, reg_alpha=0.1, reg_lambda=0.01, subsample=0.6;, score=0.794 total time=  57.5s\n",
      "[CV 2/5] END colsample_bytree=0.8, learning_rate=0.01, max_depth=12, min_child_weight=5, n_estimators=1000, num_leaves=16, reg_alpha=0.1, reg_lambda=0.01, subsample=0.6;, score=0.794 total time=  57.8s\n",
      "[CV 3/5] END colsample_bytree=0.8, learning_rate=0.01, max_depth=12, min_child_weight=5, n_estimators=1000, num_leaves=16, reg_alpha=0.1, reg_lambda=0.01, subsample=0.6;, score=0.794 total time=  58.2s\n",
      "[CV 4/5] END colsample_bytree=0.8, learning_rate=0.01, max_depth=12, min_child_weight=5, n_estimators=1000, num_leaves=16, reg_alpha=0.1, reg_lambda=0.01, subsample=0.6;, score=0.800 total time=  57.8s\n",
      "[CV 5/5] END colsample_bytree=0.8, learning_rate=0.01, max_depth=12, min_child_weight=5, n_estimators=1000, num_leaves=16, reg_alpha=0.1, reg_lambda=0.01, subsample=0.6;, score=0.801 total time=  58.1s\n",
      "[CV 1/5] END colsample_bytree=0.8, learning_rate=0.05, max_depth=12, min_child_weight=1, n_estimators=100, num_leaves=32, reg_alpha=0.01, reg_lambda=0.01, subsample=0.6;, score=0.789 total time=  10.6s\n",
      "[CV 2/5] END colsample_bytree=0.8, learning_rate=0.05, max_depth=12, min_child_weight=1, n_estimators=100, num_leaves=32, reg_alpha=0.01, reg_lambda=0.01, subsample=0.6;, score=0.790 total time=  10.6s\n",
      "[CV 3/5] END colsample_bytree=0.8, learning_rate=0.05, max_depth=12, min_child_weight=1, n_estimators=100, num_leaves=32, reg_alpha=0.01, reg_lambda=0.01, subsample=0.6;, score=0.791 total time=  10.6s\n",
      "[CV 4/5] END colsample_bytree=0.8, learning_rate=0.05, max_depth=12, min_child_weight=1, n_estimators=100, num_leaves=32, reg_alpha=0.01, reg_lambda=0.01, subsample=0.6;, score=0.796 total time=  10.5s\n",
      "[CV 5/5] END colsample_bytree=0.8, learning_rate=0.05, max_depth=12, min_child_weight=1, n_estimators=100, num_leaves=32, reg_alpha=0.01, reg_lambda=0.01, subsample=0.6;, score=0.795 total time=  10.6s\n"
     ]
    },
    {
     "name": "stdout",
     "output_type": "stream",
     "text": [
      "[CV 1/5] END colsample_bytree=0.8, learning_rate=0.1, max_depth=6, min_child_weight=1, n_estimators=500, num_leaves=16, reg_alpha=0.01, reg_lambda=0.01, subsample=0.6;, score=0.801 total time=  21.9s\n",
      "[CV 2/5] END colsample_bytree=0.8, learning_rate=0.1, max_depth=6, min_child_weight=1, n_estimators=500, num_leaves=16, reg_alpha=0.01, reg_lambda=0.01, subsample=0.6;, score=0.801 total time=  21.8s\n",
      "[CV 3/5] END colsample_bytree=0.8, learning_rate=0.1, max_depth=6, min_child_weight=1, n_estimators=500, num_leaves=16, reg_alpha=0.01, reg_lambda=0.01, subsample=0.6;, score=0.797 total time=  22.0s\n",
      "[CV 4/5] END colsample_bytree=0.8, learning_rate=0.1, max_depth=6, min_child_weight=1, n_estimators=500, num_leaves=16, reg_alpha=0.01, reg_lambda=0.01, subsample=0.6;, score=0.803 total time=  21.7s\n",
      "[CV 5/5] END colsample_bytree=0.8, learning_rate=0.1, max_depth=6, min_child_weight=1, n_estimators=500, num_leaves=16, reg_alpha=0.01, reg_lambda=0.01, subsample=0.6;, score=0.807 total time=  22.0s\n",
      "[CV 1/5] END colsample_bytree=0.6, learning_rate=0.05, max_depth=6, min_child_weight=5, n_estimators=1000, num_leaves=16, reg_alpha=1.0, reg_lambda=0.01, subsample=1.0;, score=0.802 total time=  33.5s\n",
      "[CV 2/5] END colsample_bytree=0.6, learning_rate=0.05, max_depth=6, min_child_weight=5, n_estimators=1000, num_leaves=16, reg_alpha=1.0, reg_lambda=0.01, subsample=1.0;, score=0.799 total time=  33.3s\n",
      "[CV 3/5] END colsample_bytree=0.6, learning_rate=0.05, max_depth=6, min_child_weight=5, n_estimators=1000, num_leaves=16, reg_alpha=1.0, reg_lambda=0.01, subsample=1.0;, score=0.799 total time=  33.3s\n",
      "[CV 4/5] END colsample_bytree=0.6, learning_rate=0.05, max_depth=6, min_child_weight=5, n_estimators=1000, num_leaves=16, reg_alpha=1.0, reg_lambda=0.01, subsample=1.0;, score=0.808 total time=  33.3s\n",
      "[CV 5/5] END colsample_bytree=0.6, learning_rate=0.05, max_depth=6, min_child_weight=5, n_estimators=1000, num_leaves=16, reg_alpha=1.0, reg_lambda=0.01, subsample=1.0;, score=0.808 total time=  33.5s\n",
      "[CV 1/5] END colsample_bytree=1.0, learning_rate=0.05, max_depth=6, min_child_weight=5, n_estimators=1000, num_leaves=64, reg_alpha=1.0, reg_lambda=0.01, subsample=0.8;, score=0.808 total time= 1.7min\n",
      "[CV 2/5] END colsample_bytree=1.0, learning_rate=0.05, max_depth=6, min_child_weight=5, n_estimators=1000, num_leaves=64, reg_alpha=1.0, reg_lambda=0.01, subsample=0.8;, score=0.803 total time= 1.7min\n",
      "[CV 3/5] END colsample_bytree=1.0, learning_rate=0.05, max_depth=6, min_child_weight=5, n_estimators=1000, num_leaves=64, reg_alpha=1.0, reg_lambda=0.01, subsample=0.8;, score=0.801 total time= 1.7min\n",
      "[CV 4/5] END colsample_bytree=1.0, learning_rate=0.05, max_depth=6, min_child_weight=5, n_estimators=1000, num_leaves=64, reg_alpha=1.0, reg_lambda=0.01, subsample=0.8;, score=0.808 total time= 1.7min\n",
      "[CV 5/5] END colsample_bytree=1.0, learning_rate=0.05, max_depth=6, min_child_weight=5, n_estimators=1000, num_leaves=64, reg_alpha=1.0, reg_lambda=0.01, subsample=0.8;, score=0.810 total time= 1.7min\n",
      "[CV 1/5] END colsample_bytree=1.0, learning_rate=0.05, max_depth=12, min_child_weight=5, n_estimators=500, num_leaves=64, reg_alpha=0.1, reg_lambda=0.1, subsample=1.0;, score=0.801 total time= 1.4min\n",
      "[CV 2/5] END colsample_bytree=1.0, learning_rate=0.05, max_depth=12, min_child_weight=5, n_estimators=500, num_leaves=64, reg_alpha=0.1, reg_lambda=0.1, subsample=1.0;, score=0.801 total time= 1.4min\n",
      "[CV 3/5] END colsample_bytree=1.0, learning_rate=0.05, max_depth=12, min_child_weight=5, n_estimators=500, num_leaves=64, reg_alpha=0.1, reg_lambda=0.1, subsample=1.0;, score=0.800 total time= 1.4min\n",
      "[CV 4/5] END colsample_bytree=1.0, learning_rate=0.05, max_depth=12, min_child_weight=5, n_estimators=500, num_leaves=64, reg_alpha=0.1, reg_lambda=0.1, subsample=1.0;, score=0.808 total time= 1.4min\n",
      "[CV 5/5] END colsample_bytree=1.0, learning_rate=0.05, max_depth=12, min_child_weight=5, n_estimators=500, num_leaves=64, reg_alpha=0.1, reg_lambda=0.1, subsample=1.0;, score=0.809 total time= 1.4min\n",
      "[CV 1/5] END colsample_bytree=0.8, learning_rate=0.1, max_depth=8, min_child_weight=10, n_estimators=100, num_leaves=64, reg_alpha=0.01, reg_lambda=0.01, subsample=1.0;, score=0.797 total time=  13.4s\n",
      "[CV 2/5] END colsample_bytree=0.8, learning_rate=0.1, max_depth=8, min_child_weight=10, n_estimators=100, num_leaves=64, reg_alpha=0.01, reg_lambda=0.01, subsample=1.0;, score=0.797 total time=  13.5s\n",
      "[CV 3/5] END colsample_bytree=0.8, learning_rate=0.1, max_depth=8, min_child_weight=10, n_estimators=100, num_leaves=64, reg_alpha=0.01, reg_lambda=0.01, subsample=1.0;, score=0.796 total time=  13.6s\n",
      "[CV 4/5] END colsample_bytree=0.8, learning_rate=0.1, max_depth=8, min_child_weight=10, n_estimators=100, num_leaves=64, reg_alpha=0.01, reg_lambda=0.01, subsample=1.0;, score=0.803 total time=  13.5s\n",
      "[CV 5/5] END colsample_bytree=0.8, learning_rate=0.1, max_depth=8, min_child_weight=10, n_estimators=100, num_leaves=64, reg_alpha=0.01, reg_lambda=0.01, subsample=1.0;, score=0.808 total time=  13.7s\n",
      "[CV 1/5] END colsample_bytree=0.8, learning_rate=0.01, max_depth=12, min_child_weight=1, n_estimators=1000, num_leaves=32, reg_alpha=1.0, reg_lambda=0.01, subsample=0.6;, score=0.797 total time= 1.6min\n",
      "[CV 2/5] END colsample_bytree=0.8, learning_rate=0.01, max_depth=12, min_child_weight=1, n_estimators=1000, num_leaves=32, reg_alpha=1.0, reg_lambda=0.01, subsample=0.6;, score=0.797 total time= 1.6min\n",
      "[CV 3/5] END colsample_bytree=0.8, learning_rate=0.01, max_depth=12, min_child_weight=1, n_estimators=1000, num_leaves=32, reg_alpha=1.0, reg_lambda=0.01, subsample=0.6;, score=0.796 total time= 1.6min\n",
      "[CV 4/5] END colsample_bytree=0.8, learning_rate=0.01, max_depth=12, min_child_weight=1, n_estimators=1000, num_leaves=32, reg_alpha=1.0, reg_lambda=0.01, subsample=0.6;, score=0.804 total time= 1.6min\n",
      "[CV 5/5] END colsample_bytree=0.8, learning_rate=0.01, max_depth=12, min_child_weight=1, n_estimators=1000, num_leaves=32, reg_alpha=1.0, reg_lambda=0.01, subsample=0.6;, score=0.805 total time= 1.6min\n",
      "[CV 1/5] END colsample_bytree=1.0, learning_rate=0.01, max_depth=8, min_child_weight=10, n_estimators=1000, num_leaves=32, reg_alpha=0.1, reg_lambda=1.0, subsample=0.6;, score=0.797 total time= 1.8min\n",
      "[CV 2/5] END colsample_bytree=1.0, learning_rate=0.01, max_depth=8, min_child_weight=10, n_estimators=1000, num_leaves=32, reg_alpha=0.1, reg_lambda=1.0, subsample=0.6;, score=0.797 total time= 1.8min\n",
      "[CV 3/5] END colsample_bytree=1.0, learning_rate=0.01, max_depth=8, min_child_weight=10, n_estimators=1000, num_leaves=32, reg_alpha=0.1, reg_lambda=1.0, subsample=0.6;, score=0.797 total time= 1.8min\n",
      "[CV 4/5] END colsample_bytree=1.0, learning_rate=0.01, max_depth=8, min_child_weight=10, n_estimators=1000, num_leaves=32, reg_alpha=0.1, reg_lambda=1.0, subsample=0.6;, score=0.803 total time= 1.8min\n",
      "[CV 5/5] END colsample_bytree=1.0, learning_rate=0.01, max_depth=8, min_child_weight=10, n_estimators=1000, num_leaves=32, reg_alpha=0.1, reg_lambda=1.0, subsample=0.6;, score=0.804 total time= 1.8min\n",
      "[CV 1/5] END colsample_bytree=0.6, learning_rate=0.05, max_depth=8, min_child_weight=1, n_estimators=1000, num_leaves=64, reg_alpha=1.0, reg_lambda=0.01, subsample=1.0;, score=0.804 total time= 1.4min\n",
      "[CV 2/5] END colsample_bytree=0.6, learning_rate=0.05, max_depth=8, min_child_weight=1, n_estimators=1000, num_leaves=64, reg_alpha=1.0, reg_lambda=0.01, subsample=1.0;, score=0.803 total time= 1.4min\n",
      "[CV 3/5] END colsample_bytree=0.6, learning_rate=0.05, max_depth=8, min_child_weight=1, n_estimators=1000, num_leaves=64, reg_alpha=1.0, reg_lambda=0.01, subsample=1.0;, score=0.802 total time= 1.5min\n",
      "[CV 4/5] END colsample_bytree=0.6, learning_rate=0.05, max_depth=8, min_child_weight=1, n_estimators=1000, num_leaves=64, reg_alpha=1.0, reg_lambda=0.01, subsample=1.0;, score=0.811 total time= 1.4min\n",
      "[CV 5/5] END colsample_bytree=0.6, learning_rate=0.05, max_depth=8, min_child_weight=1, n_estimators=1000, num_leaves=64, reg_alpha=1.0, reg_lambda=0.01, subsample=1.0;, score=0.810 total time= 1.5min\n",
      "[CV 1/5] END colsample_bytree=0.6, learning_rate=0.01, max_depth=12, min_child_weight=1, n_estimators=500, num_leaves=32, reg_alpha=1.0, reg_lambda=0.01, subsample=0.8;, score=0.792 total time=  36.5s\n"
     ]
    },
    {
     "name": "stdout",
     "output_type": "stream",
     "text": [
      "[CV 2/5] END colsample_bytree=0.6, learning_rate=0.01, max_depth=12, min_child_weight=1, n_estimators=500, num_leaves=32, reg_alpha=1.0, reg_lambda=0.01, subsample=0.8;, score=0.789 total time=  36.4s\n",
      "[CV 3/5] END colsample_bytree=0.6, learning_rate=0.01, max_depth=12, min_child_weight=1, n_estimators=500, num_leaves=32, reg_alpha=1.0, reg_lambda=0.01, subsample=0.8;, score=0.791 total time=  36.7s\n",
      "[CV 4/5] END colsample_bytree=0.6, learning_rate=0.01, max_depth=12, min_child_weight=1, n_estimators=500, num_leaves=32, reg_alpha=1.0, reg_lambda=0.01, subsample=0.8;, score=0.799 total time=  36.3s\n",
      "[CV 5/5] END colsample_bytree=0.6, learning_rate=0.01, max_depth=12, min_child_weight=1, n_estimators=500, num_leaves=32, reg_alpha=1.0, reg_lambda=0.01, subsample=0.8;, score=0.797 total time=  36.5s\n",
      "Best parameters: {'subsample': 0.6, 'reg_lambda': 1.0, 'reg_alpha': 0.1, 'num_leaves': 64, 'n_estimators': 1000, 'min_child_weight': 10, 'max_depth': 8, 'learning_rate': 0.1, 'colsample_bytree': 1.0}\n",
      "Best score: 0.8065\n"
     ]
    }
   ],
   "source": [
    "from sklearn.model_selection import RandomizedSearchCV\n",
    "from lightgbm import LGBMClassifier\n",
    "import numpy as np\n",
    "\n",
    "param_distributions = {\n",
    "    'n_estimators': [100, 500, 1000],\n",
    "    'learning_rate': [0.01, 0.05, 0.1],\n",
    "    'num_leaves': [16, 32, 64],\n",
    "    'max_depth': [6, 8, 12],\n",
    "    'min_child_weight': [1, 5, 10],\n",
    "    'subsample': [0.6, 0.8, 1.0],\n",
    "    'colsample_bytree': [0.6, 0.8, 1.0],\n",
    "    'reg_alpha': [0.01, 0.1, 1.0],\n",
    "    'reg_lambda': [0.01, 0.1, 1.0],\n",
    "}\n",
    "\n",
    "model = LGBMClassifier(random_state=42)\n",
    "\n",
    "random_search = RandomizedSearchCV(\n",
    "    estimator=model,\n",
    "    param_distributions=param_distributions,\n",
    "    n_iter=50,\n",
    "    cv=5,\n",
    "    scoring='f1_micro',\n",
    "    verbose=3,\n",
    "    random_state=42,\n",
    ")\n",
    "\n",
    "random_search.fit(train_features, train_targets)\n",
    "\n",
    "print(f\"Best parameters: {random_search.best_params_}\")\n",
    "print(f\"Best score: {random_search.best_score_:.4f}\")\n"
   ]
  }
 ],
 "metadata": {
  "colab": {
   "authorship_tag": "ABX9TyOHFydjN5i/XBNqWONReDcv",
   "collapsed_sections": [],
   "mount_file_id": "1T_IOk7mLoqFejckqYXEVlyAZnQgaP2fG",
   "name": "93-fasttext-lightgbm.ipynb",
   "provenance": [],
   "toc_visible": true
  },
  "kernelspec": {
   "display_name": "Python 3 (ipykernel)",
   "language": "python",
   "name": "python3"
  },
  "language_info": {
   "codemirror_mode": {
    "name": "ipython",
    "version": 3
   },
   "file_extension": ".py",
   "mimetype": "text/x-python",
   "name": "python",
   "nbconvert_exporter": "python",
   "pygments_lexer": "ipython3",
   "version": "3.8.3"
  },
  "widgets": {
   "application/vnd.jupyter.widget-state+json": {
    "29daa51c7c394e35b6190c7937fe890a": {
     "model_module": "@jupyter-widgets/base",
     "model_name": "LayoutModel",
     "state": {
      "_model_module": "@jupyter-widgets/base",
      "_model_module_version": "1.2.0",
      "_model_name": "LayoutModel",
      "_view_count": null,
      "_view_module": "@jupyter-widgets/base",
      "_view_module_version": "1.2.0",
      "_view_name": "LayoutView",
      "align_content": null,
      "align_items": null,
      "align_self": null,
      "border": null,
      "bottom": null,
      "display": null,
      "flex": null,
      "flex_flow": null,
      "grid_area": null,
      "grid_auto_columns": null,
      "grid_auto_flow": null,
      "grid_auto_rows": null,
      "grid_column": null,
      "grid_gap": null,
      "grid_row": null,
      "grid_template_areas": null,
      "grid_template_columns": null,
      "grid_template_rows": null,
      "height": null,
      "justify_content": null,
      "justify_items": null,
      "left": null,
      "margin": null,
      "max_height": null,
      "max_width": null,
      "min_height": null,
      "min_width": null,
      "object_fit": null,
      "object_position": null,
      "order": null,
      "overflow": null,
      "overflow_x": null,
      "overflow_y": null,
      "padding": null,
      "right": null,
      "top": null,
      "visibility": null,
      "width": null
     }
    },
    "2ba24a1b71e848d1b72bd7c04a274240": {
     "model_module": "@jupyter-widgets/controls",
     "model_name": "HBoxModel",
     "state": {
      "_dom_classes": [],
      "_model_module": "@jupyter-widgets/controls",
      "_model_module_version": "1.5.0",
      "_model_name": "HBoxModel",
      "_view_count": null,
      "_view_module": "@jupyter-widgets/controls",
      "_view_module_version": "1.5.0",
      "_view_name": "HBoxView",
      "box_style": "",
      "children": [
       "IPY_MODEL_f6d69595a9cd41659a73bda9e9f28021",
       "IPY_MODEL_7148e44516fc4443842f74f988436e10"
      ],
      "layout": "IPY_MODEL_bece14ab8109428d911f66b9b672d9fc"
     }
    },
    "3c13eca4c287455d9f83148b4ba3ee03": {
     "model_module": "@jupyter-widgets/controls",
     "model_name": "ProgressStyleModel",
     "state": {
      "_model_module": "@jupyter-widgets/controls",
      "_model_module_version": "1.5.0",
      "_model_name": "ProgressStyleModel",
      "_view_count": null,
      "_view_module": "@jupyter-widgets/base",
      "_view_module_version": "1.2.0",
      "_view_name": "StyleView",
      "bar_color": null,
      "description_width": "initial"
     }
    },
    "7148e44516fc4443842f74f988436e10": {
     "model_module": "@jupyter-widgets/controls",
     "model_name": "HTMLModel",
     "state": {
      "_dom_classes": [],
      "_model_module": "@jupyter-widgets/controls",
      "_model_module_version": "1.5.0",
      "_model_name": "HTMLModel",
      "_view_count": null,
      "_view_module": "@jupyter-widgets/controls",
      "_view_module_version": "1.5.0",
      "_view_name": "HTMLView",
      "description": "",
      "description_tooltip": null,
      "layout": "IPY_MODEL_c0c1185aac4e4c339460db4ae237df6a",
      "placeholder": "​",
      "style": "IPY_MODEL_a13d7c4c7be149af9dc8cfaae0dfceb6",
      "value": " 100000/100000 [00:15&lt;00:00, 6595.92it/s]"
     }
    },
    "a13d7c4c7be149af9dc8cfaae0dfceb6": {
     "model_module": "@jupyter-widgets/controls",
     "model_name": "DescriptionStyleModel",
     "state": {
      "_model_module": "@jupyter-widgets/controls",
      "_model_module_version": "1.5.0",
      "_model_name": "DescriptionStyleModel",
      "_view_count": null,
      "_view_module": "@jupyter-widgets/base",
      "_view_module_version": "1.2.0",
      "_view_name": "StyleView",
      "description_width": ""
     }
    },
    "bece14ab8109428d911f66b9b672d9fc": {
     "model_module": "@jupyter-widgets/base",
     "model_name": "LayoutModel",
     "state": {
      "_model_module": "@jupyter-widgets/base",
      "_model_module_version": "1.2.0",
      "_model_name": "LayoutModel",
      "_view_count": null,
      "_view_module": "@jupyter-widgets/base",
      "_view_module_version": "1.2.0",
      "_view_name": "LayoutView",
      "align_content": null,
      "align_items": null,
      "align_self": null,
      "border": null,
      "bottom": null,
      "display": null,
      "flex": null,
      "flex_flow": null,
      "grid_area": null,
      "grid_auto_columns": null,
      "grid_auto_flow": null,
      "grid_auto_rows": null,
      "grid_column": null,
      "grid_gap": null,
      "grid_row": null,
      "grid_template_areas": null,
      "grid_template_columns": null,
      "grid_template_rows": null,
      "height": null,
      "justify_content": null,
      "justify_items": null,
      "left": null,
      "margin": null,
      "max_height": null,
      "max_width": null,
      "min_height": null,
      "min_width": null,
      "object_fit": null,
      "object_position": null,
      "order": null,
      "overflow": null,
      "overflow_x": null,
      "overflow_y": null,
      "padding": null,
      "right": null,
      "top": null,
      "visibility": null,
      "width": null
     }
    },
    "c0c1185aac4e4c339460db4ae237df6a": {
     "model_module": "@jupyter-widgets/base",
     "model_name": "LayoutModel",
     "state": {
      "_model_module": "@jupyter-widgets/base",
      "_model_module_version": "1.2.0",
      "_model_name": "LayoutModel",
      "_view_count": null,
      "_view_module": "@jupyter-widgets/base",
      "_view_module_version": "1.2.0",
      "_view_name": "LayoutView",
      "align_content": null,
      "align_items": null,
      "align_self": null,
      "border": null,
      "bottom": null,
      "display": null,
      "flex": null,
      "flex_flow": null,
      "grid_area": null,
      "grid_auto_columns": null,
      "grid_auto_flow": null,
      "grid_auto_rows": null,
      "grid_column": null,
      "grid_gap": null,
      "grid_row": null,
      "grid_template_areas": null,
      "grid_template_columns": null,
      "grid_template_rows": null,
      "height": null,
      "justify_content": null,
      "justify_items": null,
      "left": null,
      "margin": null,
      "max_height": null,
      "max_width": null,
      "min_height": null,
      "min_width": null,
      "object_fit": null,
      "object_position": null,
      "order": null,
      "overflow": null,
      "overflow_x": null,
      "overflow_y": null,
      "padding": null,
      "right": null,
      "top": null,
      "visibility": null,
      "width": null
     }
    },
    "f6d69595a9cd41659a73bda9e9f28021": {
     "model_module": "@jupyter-widgets/controls",
     "model_name": "FloatProgressModel",
     "state": {
      "_dom_classes": [],
      "_model_module": "@jupyter-widgets/controls",
      "_model_module_version": "1.5.0",
      "_model_name": "FloatProgressModel",
      "_view_count": null,
      "_view_module": "@jupyter-widgets/controls",
      "_view_module_version": "1.5.0",
      "_view_name": "ProgressView",
      "bar_style": "success",
      "description": "100%",
      "description_tooltip": null,
      "layout": "IPY_MODEL_29daa51c7c394e35b6190c7937fe890a",
      "max": 100000,
      "min": 0,
      "orientation": "horizontal",
      "style": "IPY_MODEL_3c13eca4c287455d9f83148b4ba3ee03",
      "value": 100000
     }
    }
   }
  }
 },
 "nbformat": 4,
 "nbformat_minor": 1
}

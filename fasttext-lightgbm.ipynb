{
 "cells": [
  {
   "cell_type": "code",
   "execution_count": 29,
   "metadata": {
    "id": "j_02QQdzBF9h"
   },
   "outputs": [],
   "source": [
    "import io\n",
    "import os\n",
    "import gc\n",
    "import re\n",
    "import pickle\n",
    "import random\n",
    "import termcolor\n",
    "import warnings\n",
    "import shutil\n",
    "from collections import Counter\n",
    "from functools import partial\n",
    "from datetime import datetime\n",
    "from dataclasses import dataclass\n",
    "from pathlib import Path\n",
    "from typing import List\n",
    "\n",
    "import pandas as pd\n",
    "import numpy as np\n",
    "from tqdm.auto import tqdm\n",
    "\n",
    "from sklearn.model_selection import StratifiedKFold\n",
    "from sklearn.metrics import  accuracy_score\n",
    "\n",
    "import lightgbm as lgbm\n",
    "from joblib import dump, load"
   ]
  },
  {
   "cell_type": "code",
   "execution_count": 2,
   "metadata": {
    "colab": {
     "base_uri": "https://localhost:8080/"
    },
    "executionInfo": {
     "elapsed": 54362,
     "status": "ok",
     "timestamp": 1615822301608,
     "user": {
      "displayName": "Kotaro Watanabe",
      "photoUrl": "https://lh3.googleusercontent.com/a-/AOh14GjG4H2tZxrV5HsbDvpsnpXb3s0bXWqYh6lAIWVWIw=s64",
      "userId": "16342582602300984286"
     },
     "user_tz": -540
    },
    "id": "g1Z7TV_VBLDn",
    "outputId": "d0b17f94-47db-48ec-b2ec-e98bc5e96911"
   },
   "outputs": [],
   "source": [
    "#!pip install -q git+https://github.com/facebookresearch/fastText.git\n",
    "#!pip install -q texthero"
   ]
  },
  {
   "cell_type": "code",
   "execution_count": 3,
   "metadata": {
    "colab": {
     "base_uri": "https://localhost:8080/"
    },
    "executionInfo": {
     "elapsed": 58081,
     "status": "ok",
     "timestamp": 1615822306953,
     "user": {
      "displayName": "Kotaro Watanabe",
      "photoUrl": "https://lh3.googleusercontent.com/a-/AOh14GjG4H2tZxrV5HsbDvpsnpXb3s0bXWqYh6lAIWVWIw=s64",
      "userId": "16342582602300984286"
     },
     "user_tz": -540
    },
    "id": "wTJM8h7zBLYD",
    "outputId": "84c1482f-7f18-4583-9c01-672e18e6694f"
   },
   "outputs": [],
   "source": [
    "import fasttext\n",
    "import texthero\n",
    "from nltk.corpus import stopwords"
   ]
  },
  {
   "cell_type": "code",
   "execution_count": 4,
   "metadata": {
    "id": "Ntg5d91-t5_J"
   },
   "outputs": [],
   "source": [
    "stopwords_list = stopwords.words('english') + stopwords.words('french')"
   ]
  },
  {
   "cell_type": "markdown",
   "metadata": {
    "id": "-kMge26lETxS"
   },
   "source": [
    "# Config"
   ]
  },
  {
   "cell_type": "code",
   "execution_count": 5,
   "metadata": {
    "colab": {
     "base_uri": "https://localhost:8080/"
    },
    "executionInfo": {
     "elapsed": 1222,
     "status": "ok",
     "timestamp": 1615822314145,
     "user": {
      "displayName": "Kotaro Watanabe",
      "photoUrl": "https://lh3.googleusercontent.com/a-/AOh14GjG4H2tZxrV5HsbDvpsnpXb3s0bXWqYh6lAIWVWIw=s64",
      "userId": "16342582602300984286"
     },
     "user_tz": -540
    },
    "id": "QebSJc8pEZPo",
    "outputId": "86382f5c-2c9d-4ee2-bd52-a1d58f2fb033"
   },
   "outputs": [
    {
     "name": "stdout",
     "output_type": "stream",
     "text": [
      "DEBUG:\t True\n",
      "SAVE_PATH:\t ../input\n",
      "NUM_WORKERS:\t 12\n"
     ]
    }
   ],
   "source": [
    "DEBUG = True\n",
    "SAVE_PATH = None\n",
    "SEED = 42\n",
    "NOW = datetime.strftime(datetime.now() , \"%m%d\")\n",
    "\n",
    "SAVE_PATH = Path(f'../input/')\n",
    "SAVE_PATH.mkdir(exist_ok=True)\n",
    "\n",
    "NUM_WORKERS = os.cpu_count()\n",
    "\n",
    "print(\"DEBUG:\\t\", DEBUG)\n",
    "print(\"SAVE_PATH:\\t\", SAVE_PATH)\n",
    "print(\"NUM_WORKERS:\\t\", NUM_WORKERS)"
   ]
  },
  {
   "cell_type": "code",
   "execution_count": 6,
   "metadata": {
    "id": "CP_WHbM6EYwU"
   },
   "outputs": [],
   "source": [
    "# @dataclass\n",
    "# class Config:\n",
    "#     max_seq_len:int = 192\n",
    "#     num_fold:int = 5\n",
    "\n",
    "#     lr:float = 3e-5\n",
    "#     batch_size: int = 128\n",
    "#     num_epoch:int = 10\n",
    "#     max_grad_norm:float = 1.0\n",
    "#     gradient_accumulation_steps: int = 1\n",
    "#     warmup_steps: int = 0\n",
    "#     weight_decay: float = 0.0\n",
    "#     adam_beta1: float = 0.9\n",
    "#     adam_beta2: float = 0.999\n",
    "#     adam_epsilon: float= 1e-8\n",
    "#     max_grad_norm: float = 1.0\n",
    "\n",
    "#     save_top_k:int = 1\n",
    "\n",
    "#     def __post_init__(self):\n",
    "#         pass\n",
    "\n",
    "\n",
    "# cfg = Config()\n",
    "# cfg"
   ]
  },
  {
   "cell_type": "markdown",
   "metadata": {
    "id": "HfiELHzjFL2E"
   },
   "source": [
    "# Helper"
   ]
  },
  {
   "cell_type": "code",
   "execution_count": 7,
   "metadata": {
    "id": "voQHpro9FP2k"
   },
   "outputs": [],
   "source": [
    "def save_pkl(dir, name, obj):\n",
    "    dir.mkdir(exist_ok=True)\n",
    "    with open(dir / name, 'wb') as f:\n",
    "        pickle.dump(obj, f)\n",
    "\n",
    "def load_pkl(dir, name):\n",
    "    with open(dir / name, 'rb') as f:\n",
    "        return pickle.load(f)\n",
    "\n",
    "def set_seed(seed=42):\n",
    "    os.environ['PYTHONHASHSEED'] = str(seed)\n",
    "    random.seed(seed)\n",
    "    np.random.seed(seed)"
   ]
  },
  {
   "cell_type": "code",
   "execution_count": 8,
   "metadata": {
    "id": "JZBPEWNFFVLZ"
   },
   "outputs": [],
   "source": [
    "set_seed(SEED)"
   ]
  },
  {
   "cell_type": "markdown",
   "metadata": {
    "id": "6Ld8ol7DDmZ-"
   },
   "source": [
    "# Load Data"
   ]
  },
  {
   "cell_type": "code",
   "execution_count": 9,
   "metadata": {
    "id": "R4ntrti-BRfx"
   },
   "outputs": [],
   "source": [
    "train_df = pd.read_csv(\"./input/Train.csv\")\n",
    "test_df = pd.read_csv(\"./input/Test.csv\")"
   ]
  },
  {
   "cell_type": "code",
   "execution_count": 10,
   "metadata": {},
   "outputs": [
    {
     "data": {
      "text/plain": [
       "<matplotlib.axes._subplots.AxesSubplot at 0x7f7314bd1490>"
      ]
     },
     "execution_count": 10,
     "metadata": {},
     "output_type": "execute_result"
    },
    {
     "data": {
      "image/png": "[encoded data removed]",
      "text/plain": [
       "<Figure size 640x480 with 1 Axes>"
      ]
     },
     "metadata": {},
     "output_type": "display_data"
    }
   ],
   "source": [
    "train_df['label'].value_counts().plot(kind='bar')"
   ]
  },
  {
   "cell_type": "code",
   "execution_count": 11,
   "metadata": {
    "id": "aN6BF9knDnbQ"
   },
   "outputs": [],
   "source": [
    "LABEL2ID = {label:i for i, label in enumerate(train_df['label'].unique())}\n",
    "ID2LABEL = {v:k for k, v in LABEL2ID.items()}\n",
    "\n",
    "train_df['label_ids'] = train_df['label'].map(LABEL2ID)"
   ]
  },
  {
   "cell_type": "code",
   "execution_count": 12,
   "metadata": {
    "colab": {
     "base_uri": "https://localhost:8080/",
     "height": 406
    },
    "executionInfo": {
     "elapsed": 2492,
     "status": "ok",
     "timestamp": 1615822315438,
     "user": {
      "displayName": "Kotaro Watanabe",
      "photoUrl": "https://lh3.googleusercontent.com/a-/AOh14GjG4H2tZxrV5HsbDvpsnpXb3s0bXWqYh6lAIWVWIw=s64",
      "userId": "16342582602300984286"
     },
     "user_tz": -540
    },
    "id": "P75R2S-XDtcP",
    "outputId": "7f5fc3d1-e8cb-4f35-d84c-057f6ca8095e"
   },
   "outputs": [
    {
     "data": {
      "text/html": [
       "<div>\n",
       "<style scoped>\n",
       "    .dataframe tbody tr th:only-of-type {\n",
       "        vertical-align: middle;\n",
       "    }\n",
       "\n",
       "    .dataframe tbody tr th {\n",
       "        vertical-align: top;\n",
       "    }\n",
       "\n",
       "    .dataframe thead th {\n",
       "        text-align: right;\n",
       "    }\n",
       "</style>\n",
       "<table border=\"1\" class=\"dataframe\">\n",
       "  <thead>\n",
       "    <tr style=\"text-align: right;\">\n",
       "      <th></th>\n",
       "      <th>ID</th>\n",
       "      <th>text</th>\n",
       "      <th>label</th>\n",
       "      <th>label_ids</th>\n",
       "    </tr>\n",
       "  </thead>\n",
       "  <tbody>\n",
       "    <tr>\n",
       "      <th>0</th>\n",
       "      <td>ID_13P0QT0</td>\n",
       "      <td>3sbaaaaaaaaaaaaaaaaaaaa lek ou le seim riahi o...</td>\n",
       "      <td>-1</td>\n",
       "      <td>0</td>\n",
       "    </tr>\n",
       "    <tr>\n",
       "      <th>1</th>\n",
       "      <td>ID_SKCLXCJ</td>\n",
       "      <td>cha3eb fey9elkoum menghir ta7ayoul ou kressi</td>\n",
       "      <td>-1</td>\n",
       "      <td>0</td>\n",
       "    </tr>\n",
       "    <tr>\n",
       "      <th>2</th>\n",
       "      <td>ID_V1TVXIJ</td>\n",
       "      <td>bereau degage nathef ya slim walahi ya7chiw fi...</td>\n",
       "      <td>-1</td>\n",
       "      <td>0</td>\n",
       "    </tr>\n",
       "    <tr>\n",
       "      <th>3</th>\n",
       "      <td>ID_U0TTYY8</td>\n",
       "      <td>ak slouma</td>\n",
       "      <td>1</td>\n",
       "      <td>1</td>\n",
       "    </tr>\n",
       "    <tr>\n",
       "      <th>4</th>\n",
       "      <td>ID_68DX797</td>\n",
       "      <td>entom titmanou lina a7na 3iid moubarik a7na ch...</td>\n",
       "      <td>-1</td>\n",
       "      <td>0</td>\n",
       "    </tr>\n",
       "    <tr>\n",
       "      <th>...</th>\n",
       "      <td>...</td>\n",
       "      <td>...</td>\n",
       "      <td>...</td>\n",
       "      <td>...</td>\n",
       "    </tr>\n",
       "    <tr>\n",
       "      <th>69995</th>\n",
       "      <td>ID_ZRSR7TZ</td>\n",
       "      <td>pff bayna beli kbira f wejhakk yakhiii rouhi r...</td>\n",
       "      <td>-1</td>\n",
       "      <td>0</td>\n",
       "    </tr>\n",
       "    <tr>\n",
       "      <th>69996</th>\n",
       "      <td>ID_QNQVEIH</td>\n",
       "      <td>aman lmara jeya zidou t3am9ou fel a7deeth akth...</td>\n",
       "      <td>-1</td>\n",
       "      <td>0</td>\n",
       "    </tr>\n",
       "    <tr>\n",
       "      <th>69997</th>\n",
       "      <td>ID_LJ2K9MD</td>\n",
       "      <td>winha nakhtabha hhhhh</td>\n",
       "      <td>-1</td>\n",
       "      <td>0</td>\n",
       "    </tr>\n",
       "    <tr>\n",
       "      <th>69998</th>\n",
       "      <td>ID_5RZ1T7I</td>\n",
       "      <td>fachel enta w houwa</td>\n",
       "      <td>-1</td>\n",
       "      <td>0</td>\n",
       "    </tr>\n",
       "    <tr>\n",
       "      <th>69999</th>\n",
       "      <td>ID_WZCF7CL</td>\n",
       "      <td>nchla lyouma nesm3ou a5beer bahiya 3la jem3iya</td>\n",
       "      <td>1</td>\n",
       "      <td>1</td>\n",
       "    </tr>\n",
       "  </tbody>\n",
       "</table>\n",
       "<p>70000 rows × 4 columns</p>\n",
       "</div>"
      ],
      "text/plain": [
       "               ID                                               text  label  \\\n",
       "0      ID_13P0QT0  3sbaaaaaaaaaaaaaaaaaaaa lek ou le seim riahi o...     -1   \n",
       "1      ID_SKCLXCJ       cha3eb fey9elkoum menghir ta7ayoul ou kressi     -1   \n",
       "2      ID_V1TVXIJ  bereau degage nathef ya slim walahi ya7chiw fi...     -1   \n",
       "3      ID_U0TTYY8                                          ak slouma      1   \n",
       "4      ID_68DX797  entom titmanou lina a7na 3iid moubarik a7na ch...     -1   \n",
       "...           ...                                                ...    ...   \n",
       "69995  ID_ZRSR7TZ  pff bayna beli kbira f wejhakk yakhiii rouhi r...     -1   \n",
       "69996  ID_QNQVEIH  aman lmara jeya zidou t3am9ou fel a7deeth akth...     -1   \n",
       "69997  ID_LJ2K9MD                              winha nakhtabha hhhhh     -1   \n",
       "69998  ID_5RZ1T7I                                fachel enta w houwa     -1   \n",
       "69999  ID_WZCF7CL     nchla lyouma nesm3ou a5beer bahiya 3la jem3iya      1   \n",
       "\n",
       "       label_ids  \n",
       "0              0  \n",
       "1              0  \n",
       "2              0  \n",
       "3              1  \n",
       "4              0  \n",
       "...          ...  \n",
       "69995          0  \n",
       "69996          0  \n",
       "69997          0  \n",
       "69998          0  \n",
       "69999          1  \n",
       "\n",
       "[70000 rows x 4 columns]"
      ]
     },
     "execution_count": 12,
     "metadata": {},
     "output_type": "execute_result"
    }
   ],
   "source": [
    "train_df"
   ]
  },
  {
   "cell_type": "code",
   "execution_count": 13,
   "metadata": {
    "id": "UCgs5kqE4wS6"
   },
   "outputs": [],
   "source": [
    "train_targets = train_df['label_ids'].values"
   ]
  },
  {
   "cell_type": "code",
   "execution_count": 14,
   "metadata": {
    "id": "XPmt8CqODqNc"
   },
   "outputs": [],
   "source": [
    "all_texts = pd.concat([train_df['text'].str.lower(), test_df['text'].str.lower()])"
   ]
  },
  {
   "cell_type": "code",
   "execution_count": 15,
   "metadata": {
    "id": "l0pn61H8uD-L"
   },
   "outputs": [],
   "source": [
    "all_texts = texthero.remove_stopwords(all_texts, stopwords_list)\n",
    "all_texts = texthero.remove_whitespace(all_texts)"
   ]
  },
  {
   "cell_type": "code",
   "execution_count": 26,
   "metadata": {},
   "outputs": [
    {
     "data": {
      "text/plain": [
       "0        3sbaaaaaaaaaaaaaaaaaaaa lek seim riahi 3sbaaaa...\n",
       "1                cha3eb fey9elkoum menghir ta7ayoul kressi\n",
       "2        bereau degage nathef ya slim walahi ya7chiw fi...\n",
       "3                                                ak slouma\n",
       "4        entom titmanou lina a7na 3iid moubarik a7na ch...\n",
       "                               ...                        \n",
       "29995                                         ihebekch raw\n",
       "29996    nchallah rabi m3ak w iwaf9ek 7abit nes2l win w...\n",
       "29997    slim rabi m3ak w e5edem w 5alli l7ossed lemnay...\n",
       "29998    bara 5alis rouhik yizi mitbal3it jam3iya hlaki...\n",
       "29999    rabi m3aaaak ya khawlaaa n7ebouuuuk rana barsh...\n",
       "Name: text, Length: 100000, dtype: object"
      ]
     },
     "execution_count": 26,
     "metadata": {},
     "output_type": "execute_result"
    }
   ],
   "source": [
    "all_texts"
   ]
  },
  {
   "cell_type": "markdown",
   "metadata": {
    "id": "yrDTIh5SCvmL"
   },
   "source": [
    "# Train Fasttext"
   ]
  },
  {
   "cell_type": "code",
   "execution_count": 16,
   "metadata": {
    "id": "c1vAMzngC1dD"
   },
   "outputs": [],
   "source": [
    "with open(\"../input/data.txt\", \"w\") as f:\n",
    "    for line in all_texts:\n",
    "        f.write(line+\"\\n\")"
   ]
  },
  {
   "cell_type": "code",
   "execution_count": 17,
   "metadata": {
    "colab": {
     "base_uri": "https://localhost:8080/"
    },
    "executionInfo": {
     "elapsed": 360660,
     "status": "ok",
     "timestamp": 1615822673623,
     "user": {
      "displayName": "Kotaro Watanabe",
      "photoUrl": "https://lh3.googleusercontent.com/a-/AOh14GjG4H2tZxrV5HsbDvpsnpXb3s0bXWqYh6lAIWVWIw=s64",
      "userId": "16342582602300984286"
     },
     "user_tz": -540
    },
    "id": "2Y43409mCycJ",
    "outputId": "9502aa3b-f367-4e46-9874-cc607bf348ff"
   },
   "outputs": [
    {
     "name": "stderr",
     "output_type": "stream",
     "text": [
      "Read 1M words\n",
      "Number of words:  18460\n",
      "Number of labels: 0\n",
      "Progress:  99.2% words/sec/thread:   24527 lr:  0.000379 avg.loss:  2.085313 ETA:   0h 0m 0s"
     ]
    },
    {
     "name": "stdout",
     "output_type": "stream",
     "text": [
      "CPU times: user 7min 5s, sys: 1.11 s, total: 7min 6s\n",
      "Wall time: 40.4 s\n"
     ]
    },
    {
     "name": "stderr",
     "output_type": "stream",
     "text": [
      "\r",
      "Progress:  99.5% words/sec/thread:   24528 lr:  0.000247 avg.loss:  2.084494 ETA:   0h 0m 0s\r",
      "Progress:  99.8% words/sec/thread:   24529 lr:  0.000114 avg.loss:  2.083566 ETA:   0h 0m 0s\r",
      "Progress: 100.0% words/sec/thread:   24522 lr: -0.000003 avg.loss:  2.082787 ETA:   0h 0m 0s\r",
      "Progress: 100.0% words/sec/thread:   24522 lr:  0.000000 avg.loss:  2.082787 ETA:   0h 0m 0s\n"
     ]
    }
   ],
   "source": [
    "%%time\n",
    "fattext_model = fasttext.train_unsupervised(\"../input/data.txt\", model='skipgram', dim=300, wordNgrams=2, epoch=10)"
   ]
  },
  {
   "cell_type": "code",
   "execution_count": 18,
   "metadata": {
    "colab": {
     "base_uri": "https://localhost:8080/",
     "height": 65,
     "referenced_widgets": [
      "2ba24a1b71e848d1b72bd7c04a274240",
      "bece14ab8109428d911f66b9b672d9fc",
      "f6d69595a9cd41659a73bda9e9f28021",
      "7148e44516fc4443842f74f988436e10",
      "3c13eca4c287455d9f83148b4ba3ee03",
      "29daa51c7c394e35b6190c7937fe890a",
      "a13d7c4c7be149af9dc8cfaae0dfceb6",
      "c0c1185aac4e4c339460db4ae237df6a"
     ]
    },
    "executionInfo": {
     "elapsed": 376331,
     "status": "ok",
     "timestamp": 1615822689297,
     "user": {
      "displayName": "Kotaro Watanabe",
      "photoUrl": "https://lh3.googleusercontent.com/a-/AOh14GjG4H2tZxrV5HsbDvpsnpXb3s0bXWqYh6lAIWVWIw=s64",
      "userId": "16342582602300984286"
     },
     "user_tz": -540
    },
    "id": "EIYQ0O813il6",
    "outputId": "729d8f0e-5450-4983-860a-4f722f9bb520",
    "scrolled": true
   },
   "outputs": [
    {
     "data": {
      "application/vnd.jupyter.widget-view+json": {
       "model_id": "eff4438f56d54724bdfea52453884942",
       "version_major": 2,
       "version_minor": 0
      },
      "text/plain": [
       "  0%|          | 0/100000 [00:00<?, ?it/s]"
      ]
     },
     "metadata": {},
     "output_type": "display_data"
    }
   ],
   "source": [
    "all_features = [fattext_model.get_sentence_vector(text) for text in tqdm(all_texts)]\n",
    "all_features = np.vstack(all_features)"
   ]
  },
  {
   "cell_type": "code",
   "execution_count": 38,
   "metadata": {},
   "outputs": [
    {
     "data": {
      "text/plain": [
       "array([[-0.00106795,  0.0016102 , -0.06782615, ..., -0.03830292,\n",
       "         0.01859627,  0.03411271],\n",
       "       [-0.02859659, -0.02939982, -0.04511665, ..., -0.05565228,\n",
       "         0.07616689,  0.02878306],\n",
       "       [-0.02287821, -0.02956938, -0.04143572, ..., -0.00525936,\n",
       "         0.01513351, -0.00029403],\n",
       "       ...,\n",
       "       [-0.04776379, -0.03106091, -0.08061023, ..., -0.02251478,\n",
       "         0.02285151,  0.00682307],\n",
       "       [ 0.00560036, -0.03767352, -0.06461616, ..., -0.03398087,\n",
       "         0.00729393, -0.01636938],\n",
       "       [-0.05200912, -0.00057337, -0.09549328, ..., -0.03529743,\n",
       "         0.01945952,  0.03119011]], dtype=float32)"
      ]
     },
     "execution_count": 38,
     "metadata": {},
     "output_type": "execute_result"
    }
   ],
   "source": [
    "all_features"
   ]
  },
  {
   "cell_type": "code",
   "execution_count": 41,
   "metadata": {},
   "outputs": [],
   "source": [
    "# Save the model to a file\n",
    "fattext_model.save_model('transformer.pkl')"
   ]
  },
  {
   "cell_type": "code",
   "execution_count": 42,
   "metadata": {},
   "outputs": [],
   "source": [
    "loaded_model = fasttext.load_model('transformer.pkl')"
   ]
  },
  {
   "cell_type": "code",
   "execution_count": 43,
   "metadata": {},
   "outputs": [
    {
     "data": {
      "application/vnd.jupyter.widget-view+json": {
       "model_id": "416f0ff915964fb59c43be35948a6195",
       "version_major": 2,
       "version_minor": 0
      },
      "text/plain": [
       "  0%|          | 0/100000 [00:00<?, ?it/s]"
      ]
     },
     "metadata": {},
     "output_type": "display_data"
    }
   ],
   "source": [
    "result =  [loaded_model.get_sentence_vector(text) for text in tqdm(all_texts)]"
   ]
  },
  {
   "cell_type": "code",
   "execution_count": 39,
   "metadata": {},
   "outputs": [],
   "source": [
    "all_features = np.vstack(result)"
   ]
  },
  {
   "cell_type": "code",
   "execution_count": 40,
   "metadata": {},
   "outputs": [
    {
     "data": {
      "text/plain": [
       "array([[-0.00106795,  0.0016102 , -0.06782615, ..., -0.03830292,\n",
       "         0.01859627,  0.03411271],\n",
       "       [-0.02859659, -0.02939982, -0.04511665, ..., -0.05565228,\n",
       "         0.07616689,  0.02878306],\n",
       "       [-0.02287821, -0.02956938, -0.04143572, ..., -0.00525936,\n",
       "         0.01513351, -0.00029403],\n",
       "       ...,\n",
       "       [-0.04776379, -0.03106091, -0.08061023, ..., -0.02251478,\n",
       "         0.02285151,  0.00682307],\n",
       "       [ 0.00560036, -0.03767352, -0.06461616, ..., -0.03398087,\n",
       "         0.00729393, -0.01636938],\n",
       "       [-0.05200912, -0.00057337, -0.09549328, ..., -0.03529743,\n",
       "         0.01945952,  0.03119011]], dtype=float32)"
      ]
     },
     "execution_count": 40,
     "metadata": {},
     "output_type": "execute_result"
    }
   ],
   "source": [
    "all_features"
   ]
  },
  {
   "cell_type": "code",
   "execution_count": 19,
   "metadata": {},
   "outputs": [
    {
     "data": {
      "text/plain": [
       "array([[-0.00106795,  0.0016102 , -0.06782615, ..., -0.03830292,\n",
       "         0.01859627,  0.03411271],\n",
       "       [-0.02859659, -0.02939982, -0.04511665, ..., -0.05565228,\n",
       "         0.07616689,  0.02878306],\n",
       "       [-0.02287821, -0.02956938, -0.04143572, ..., -0.00525936,\n",
       "         0.01513351, -0.00029403],\n",
       "       ...,\n",
       "       [-0.04776379, -0.03106091, -0.08061023, ..., -0.02251478,\n",
       "         0.02285151,  0.00682307],\n",
       "       [ 0.00560036, -0.03767352, -0.06461616, ..., -0.03398087,\n",
       "         0.00729393, -0.01636938],\n",
       "       [-0.05200912, -0.00057337, -0.09549328, ..., -0.03529743,\n",
       "         0.01945952,  0.03119011]], dtype=float32)"
      ]
     },
     "execution_count": 19,
     "metadata": {},
     "output_type": "execute_result"
    }
   ],
   "source": [
    "all_features"
   ]
  },
  {
   "cell_type": "code",
   "execution_count": 20,
   "metadata": {
    "id": "KD-b59N136-n"
   },
   "outputs": [],
   "source": [
    "train_features = all_features[:len(train_df)]\n",
    "test_features = all_features[len(train_df):]"
   ]
  },
  {
   "cell_type": "code",
   "execution_count": 21,
   "metadata": {},
   "outputs": [
    {
     "data": {
      "text/plain": [
       "array([[ 0.00514885, -0.01693812, -0.00471918, ..., -0.03382568,\n",
       "        -0.00043359, -0.03012971],\n",
       "       [-0.0312585 ,  0.03899667, -0.07935634, ..., -0.03053857,\n",
       "         0.0167608 , -0.06937312],\n",
       "       [-0.05222502,  0.01429251, -0.09308972, ...,  0.01405543,\n",
       "         0.00218351,  0.0535922 ],\n",
       "       ...,\n",
       "       [-0.04776379, -0.03106091, -0.08061023, ..., -0.02251478,\n",
       "         0.02285151,  0.00682307],\n",
       "       [ 0.00560036, -0.03767352, -0.06461616, ..., -0.03398087,\n",
       "         0.00729393, -0.01636938],\n",
       "       [-0.05200912, -0.00057337, -0.09549328, ..., -0.03529743,\n",
       "         0.01945952,  0.03119011]], dtype=float32)"
      ]
     },
     "execution_count": 21,
     "metadata": {},
     "output_type": "execute_result"
    }
   ],
   "source": [
    "test_features"
   ]
  },
  {
   "cell_type": "markdown",
   "metadata": {
    "id": "AGMQn9q2FvtM"
   },
   "source": [
    "# make cv"
   ]
  },
  {
   "cell_type": "code",
   "execution_count": 22,
   "metadata": {
    "id": "TolpaPYHFcpX"
   },
   "outputs": [],
   "source": [
    "cv = list(StratifiedKFold(n_splits=5).split(train_df, train_df['label_ids']))"
   ]
  },
  {
   "cell_type": "code",
   "execution_count": 23,
   "metadata": {
    "id": "V-rdqOAlsQTn"
   },
   "outputs": [],
   "source": [
    "LGBM_PARAMS = {\n",
    "    \"n_estimators\": 10000,\n",
    "\n",
    "    \"max_depth\": 6,\n",
    "    \n",
    "    'feature_fraction': 0.8,\n",
    "    'bagging_fraction': 0.8,\n",
    "    'bagging_freq': 3,\n",
    "\n",
    "    'random_state': 42,\n",
    "}"
   ]
  },
  {
   "cell_type": "code",
   "execution_count": 24,
   "metadata": {
    "colab": {
     "base_uri": "https://localhost:8080/"
    },
    "executionInfo": {
     "elapsed": 923360,
     "status": "ok",
     "timestamp": 1615823236339,
     "user": {
      "displayName": "Kotaro Watanabe",
      "photoUrl": "https://lh3.googleusercontent.com/a-/AOh14GjG4H2tZxrV5HsbDvpsnpXb3s0bXWqYh6lAIWVWIw=s64",
      "userId": "16342582602300984286"
     },
     "user_tz": -540
    },
    "id": "Gh6Jtc1iJj-A",
    "outputId": "1f57d0c4-34d5-4411-b32a-d5ef216836d9"
   },
   "outputs": [
    {
     "name": "stdout",
     "output_type": "stream",
     "text": [
      "==============================\n",
      "======fold: 0 start======\n",
      "[LightGBM] [Warning] bagging_fraction is set=0.8, subsample=1.0 will be ignored. Current value: bagging_fraction=0.8\n",
      "[LightGBM] [Warning] feature_fraction is set=0.8, colsample_bytree=1.0 will be ignored. Current value: feature_fraction=0.8\n",
      "[LightGBM] [Warning] bagging_freq is set=3, subsample_freq=0 will be ignored. Current value: bagging_freq=3\n",
      "[LightGBM] [Warning] Accuracy may be bad since you didn't explicitly set num_leaves OR 2^max_depth > num_leaves. (num_leaves=31).\n",
      "Training until validation scores don't improve for 50 rounds\n",
      "[50]\tvalid_0's multi_logloss: 0.496156\n",
      "[100]\tvalid_0's multi_logloss: 0.479572\n",
      "[150]\tvalid_0's multi_logloss: 0.475085\n",
      "[200]\tvalid_0's multi_logloss: 0.472697\n",
      "[250]\tvalid_0's multi_logloss: 0.47202\n",
      "[300]\tvalid_0's multi_logloss: 0.473192\n",
      "Early stopping, best iteration is:\n",
      "[275]\tvalid_0's multi_logloss: 0.471863\n",
      "score 0.8007\n",
      "==============================\n",
      "======fold: 1 start======\n",
      "[LightGBM] [Warning] bagging_fraction is set=0.8, subsample=1.0 will be ignored. Current value: bagging_fraction=0.8\n",
      "[LightGBM] [Warning] feature_fraction is set=0.8, colsample_bytree=1.0 will be ignored. Current value: feature_fraction=0.8\n",
      "[LightGBM] [Warning] bagging_freq is set=3, subsample_freq=0 will be ignored. Current value: bagging_freq=3\n",
      "[LightGBM] [Warning] Accuracy may be bad since you didn't explicitly set num_leaves OR 2^max_depth > num_leaves. (num_leaves=31).\n",
      "Training until validation scores don't improve for 50 rounds\n",
      "[50]\tvalid_0's multi_logloss: 0.499076\n",
      "[100]\tvalid_0's multi_logloss: 0.481413\n",
      "[150]\tvalid_0's multi_logloss: 0.476331\n",
      "[200]\tvalid_0's multi_logloss: 0.474996\n",
      "[250]\tvalid_0's multi_logloss: 0.475278\n",
      "Early stopping, best iteration is:\n",
      "[215]\tvalid_0's multi_logloss: 0.474345\n",
      "score 0.7986\n",
      "==============================\n",
      "======fold: 2 start======\n",
      "[LightGBM] [Warning] bagging_fraction is set=0.8, subsample=1.0 will be ignored. Current value: bagging_fraction=0.8\n",
      "[LightGBM] [Warning] feature_fraction is set=0.8, colsample_bytree=1.0 will be ignored. Current value: feature_fraction=0.8\n",
      "[LightGBM] [Warning] bagging_freq is set=3, subsample_freq=0 will be ignored. Current value: bagging_freq=3\n",
      "[LightGBM] [Warning] Accuracy may be bad since you didn't explicitly set num_leaves OR 2^max_depth > num_leaves. (num_leaves=31).\n",
      "Training until validation scores don't improve for 50 rounds\n",
      "[50]\tvalid_0's multi_logloss: 0.507468\n",
      "[100]\tvalid_0's multi_logloss: 0.490837\n",
      "[150]\tvalid_0's multi_logloss: 0.48679\n",
      "[200]\tvalid_0's multi_logloss: 0.487115\n",
      "Early stopping, best iteration is:\n",
      "[154]\tvalid_0's multi_logloss: 0.486566\n",
      "score 0.7969\n",
      "==============================\n",
      "======fold: 3 start======\n",
      "[LightGBM] [Warning] bagging_fraction is set=0.8, subsample=1.0 will be ignored. Current value: bagging_fraction=0.8\n",
      "[LightGBM] [Warning] feature_fraction is set=0.8, colsample_bytree=1.0 will be ignored. Current value: feature_fraction=0.8\n",
      "[LightGBM] [Warning] bagging_freq is set=3, subsample_freq=0 will be ignored. Current value: bagging_freq=3\n",
      "[LightGBM] [Warning] Accuracy may be bad since you didn't explicitly set num_leaves OR 2^max_depth > num_leaves. (num_leaves=31).\n",
      "Training until validation scores don't improve for 50 rounds\n",
      "[50]\tvalid_0's multi_logloss: 0.492194\n",
      "[100]\tvalid_0's multi_logloss: 0.473825\n",
      "[150]\tvalid_0's multi_logloss: 0.470241\n",
      "[200]\tvalid_0's multi_logloss: 0.469633\n",
      "Early stopping, best iteration is:\n",
      "[195]\tvalid_0's multi_logloss: 0.469209\n",
      "score 0.8061\n",
      "==============================\n",
      "======fold: 4 start======\n",
      "[LightGBM] [Warning] bagging_fraction is set=0.8, subsample=1.0 will be ignored. Current value: bagging_fraction=0.8\n",
      "[LightGBM] [Warning] feature_fraction is set=0.8, colsample_bytree=1.0 will be ignored. Current value: feature_fraction=0.8\n",
      "[LightGBM] [Warning] bagging_freq is set=3, subsample_freq=0 will be ignored. Current value: bagging_freq=3\n",
      "[LightGBM] [Warning] Accuracy may be bad since you didn't explicitly set num_leaves OR 2^max_depth > num_leaves. (num_leaves=31).\n",
      "Training until validation scores don't improve for 50 rounds\n",
      "[50]\tvalid_0's multi_logloss: 0.493969\n",
      "[100]\tvalid_0's multi_logloss: 0.477661\n",
      "[150]\tvalid_0's multi_logloss: 0.472733\n",
      "[200]\tvalid_0's multi_logloss: 0.471741\n",
      "[250]\tvalid_0's multi_logloss: 0.472378\n",
      "Early stopping, best iteration is:\n",
      "[230]\tvalid_0's multi_logloss: 0.471476\n",
      "score 0.8030\n",
      "CPU times: user 17min 57s, sys: 1.33 s, total: 17min 58s\n",
      "Wall time: 1min 32s\n"
     ]
    }
   ],
   "source": [
    "%%time\n",
    "val_scores = []\n",
    "val_preds = np.zeros((len(train_df), len(ID2LABEL)), dtype=\"float32\")\n",
    "test_preds = np.zeros((5, len(test_df), len(ID2LABEL)), dtype=\"float32\")\n",
    "\n",
    "for fold in range(5):\n",
    "    print('='*30)\n",
    "    print(f'======fold: {fold} start======')\n",
    "\n",
    "    trn_idx, val_idx = cv[fold]\n",
    "\n",
    "    trn_features, val_features = train_features[trn_idx], train_features[val_idx]\n",
    "    trn_targets, val_targets = train_targets[trn_idx], train_targets[val_idx]\n",
    "\n",
    "    model = lgbm.LGBMClassifier(**LGBM_PARAMS)\n",
    "    \n",
    "    model.fit(\n",
    "        X=trn_features,\n",
    "        y=trn_targets,\n",
    "        eval_set=[(val_features, val_targets)],\n",
    "        early_stopping_rounds=50,\n",
    "        verbose=50,\n",
    "    )\n",
    "\n",
    "    val_pred = model.predict(val_features)\n",
    "    score = accuracy_score(val_targets, val_pred)\n",
    "\n",
    "    print(f\"score {score:.4f}\")\n",
    "\n",
    "    val_preds[val_idx] = model.predict_proba(val_features)\n",
    "    test_preds[fold] = model.predict_proba(test_features)"
   ]
  },
  {
   "cell_type": "code",
   "execution_count": 25,
   "metadata": {
    "colab": {
     "base_uri": "https://localhost:8080/"
    },
    "executionInfo": {
     "elapsed": 765,
     "status": "ok",
     "timestamp": 1615823256834,
     "user": {
      "displayName": "Kotaro Watanabe",
      "photoUrl": "https://lh3.googleusercontent.com/a-/AOh14GjG4H2tZxrV5HsbDvpsnpXb3s0bXWqYh6lAIWVWIw=s64",
      "userId": "16342582602300984286"
     },
     "user_tz": -540
    },
    "id": "Tq41fdir8RBT",
    "outputId": "0595be16-6510-4ade-e409-6cea29422f0a"
   },
   "outputs": [
    {
     "name": "stdout",
     "output_type": "stream",
     "text": [
      "all oof score 0.8011\n"
     ]
    }
   ],
   "source": [
    "print(f\"all oof score {accuracy_score(train_targets, np.argmax(val_preds, axis=-1)):.4f}\")"
   ]
  },
  {
   "cell_type": "code",
   "execution_count": 25,
   "metadata": {},
   "outputs": [
    {
     "data": {
      "text/plain": [
       "array([[0.72182477, 0.252643  , 0.02553223],\n",
       "       [0.25505322, 0.37598354, 0.36896324],\n",
       "       [0.02697412, 0.9708654 , 0.00216047],\n",
       "       ...,\n",
       "       [0.7491122 , 0.18198207, 0.0689057 ],\n",
       "       [0.9092017 , 0.07787899, 0.01291932],\n",
       "       [0.03604629, 0.9597934 , 0.00416029]], dtype=float32)"
      ]
     },
     "execution_count": 25,
     "metadata": {},
     "output_type": "execute_result"
    }
   ],
   "source": [
    " val_preds[val_idx]"
   ]
  },
  {
   "cell_type": "code",
   "execution_count": 26,
   "metadata": {},
   "outputs": [
    {
     "data": {
      "text/plain": [
       "array([[-0.00274511, -0.03068905, -0.05089149, ..., -0.02671383,\n",
       "         0.01810639,  0.01648952],\n",
       "       [ 0.0073285 , -0.01267307, -0.0471139 , ...,  0.00379582,\n",
       "        -0.00870031,  0.01137399],\n",
       "       [-0.01586012,  0.00633105, -0.08112895, ..., -0.08650197,\n",
       "         0.07804128,  0.0262604 ],\n",
       "       ...,\n",
       "       [ 0.04470783,  0.04509737, -0.08074663, ..., -0.09336849,\n",
       "         0.00830155, -0.04667057],\n",
       "       [ 0.00911353,  0.00704008, -0.03670062, ..., -0.02367837,\n",
       "        -0.02304896,  0.00376766],\n",
       "       [ 0.0193888 ,  0.01706127, -0.00213409, ..., -0.00186663,\n",
       "         0.03647269,  0.00310219]], dtype=float32)"
      ]
     },
     "execution_count": 26,
     "metadata": {},
     "output_type": "execute_result"
    }
   ],
   "source": [
    "val_features"
   ]
  },
  {
   "cell_type": "code",
   "execution_count": 27,
   "metadata": {},
   "outputs": [
    {
     "data": {
      "text/plain": [
       "array([0, 1, 1, ..., 0, 0, 1])"
      ]
     },
     "execution_count": 27,
     "metadata": {},
     "output_type": "execute_result"
    }
   ],
   "source": [
    "model.predict(val_features)"
   ]
  },
  {
   "cell_type": "code",
   "execution_count": 25,
   "metadata": {},
   "outputs": [],
   "source": [
    "### Saving models like this return error while deploying immediately\n",
    "\n",
    "with open('model.pkl', 'wb') as f:\n",
    "    pickle.dump(model, f)"
   ]
  },
  {
   "cell_type": "code",
   "execution_count": 26,
   "metadata": {},
   "outputs": [],
   "source": [
    "\n",
    "# load the saved model object from the binary file\n",
    "with open('model.pkl', 'rb') as f:\n",
    "    model = pickle.load(f)"
   ]
  },
  {
   "cell_type": "code",
   "execution_count": 27,
   "metadata": {},
   "outputs": [
    {
     "data": {
      "text/plain": [
       "array([0, 1, 1, ..., 0, 0, 1])"
      ]
     },
     "execution_count": 27,
     "metadata": {},
     "output_type": "execute_result"
    }
   ],
   "source": [
    "model.predict(val_features)"
   ]
  },
  {
   "cell_type": "code",
   "execution_count": 24,
   "metadata": {},
   "outputs": [],
   "source": [
    "### Saving models like this first loads the model and returns error while deploying immediately. I wonder why? \n",
    "### It is understandable for the displayed interface of gcp to return error while the prediction button is engange\n",
    "### as we only save the test predictions.\n",
    "\n",
    "save_pkl(Path(\"./\"), \"test_preds.pkl\", test_preds)\n"
   ]
  },
  {
   "cell_type": "code",
   "execution_count": null,
   "metadata": {},
   "outputs": [],
   "source": [
    "##### The deployment is very positive with toy models. For all these, it is very unlikely the error is due to \n",
    "#### doing the POST and wrong "
   ]
  }
 ],
 "metadata": {
  "colab": {
   "authorship_tag": "ABX9TyOHFydjN5i/XBNqWONReDcv",
   "collapsed_sections": [],
   "mount_file_id": "1T_IOk7mLoqFejckqYXEVlyAZnQgaP2fG",
   "name": "93-fasttext-lightgbm.ipynb",
   "provenance": [],
   "toc_visible": true
  },
  "kernelspec": {
   "display_name": "Python 3 (ipykernel)",
   "language": "python",
   "name": "python3"
  },
  "language_info": {
   "codemirror_mode": {
    "name": "ipython",
    "version": 3
   },
   "file_extension": ".py",
   "mimetype": "text/x-python",
   "name": "python",
   "nbconvert_exporter": "python",
   "pygments_lexer": "ipython3",
   "version": "3.8.3"
  },
  "widgets": {
   "application/vnd.jupyter.widget-state+json": {
    "29daa51c7c394e35b6190c7937fe890a": {
     "model_module": "@jupyter-widgets/base",
     "model_name": "LayoutModel",
     "state": {
      "_model_module": "@jupyter-widgets/base",
      "_model_module_version": "1.2.0",
      "_model_name": "LayoutModel",
      "_view_count": null,
      "_view_module": "@jupyter-widgets/base",
      "_view_module_version": "1.2.0",
      "_view_name": "LayoutView",
      "align_content": null,
      "align_items": null,
      "align_self": null,
      "border": null,
      "bottom": null,
      "display": null,
      "flex": null,
      "flex_flow": null,
      "grid_area": null,
      "grid_auto_columns": null,
      "grid_auto_flow": null,
      "grid_auto_rows": null,
      "grid_column": null,
      "grid_gap": null,
      "grid_row": null,
      "grid_template_areas": null,
      "grid_template_columns": null,
      "grid_template_rows": null,
      "height": null,
      "justify_content": null,
      "justify_items": null,
      "left": null,
      "margin": null,
      "max_height": null,
      "max_width": null,
      "min_height": null,
      "min_width": null,
      "object_fit": null,
      "object_position": null,
      "order": null,
      "overflow": null,
      "overflow_x": null,
      "overflow_y": null,
      "padding": null,
      "right": null,
      "top": null,
      "visibility": null,
      "width": null
     }
    },
    "2ba24a1b71e848d1b72bd7c04a274240": {
     "model_module": "@jupyter-widgets/controls",
     "model_name": "HBoxModel",
     "state": {
      "_dom_classes": [],
      "_model_module": "@jupyter-widgets/controls",
      "_model_module_version": "1.5.0",
      "_model_name": "HBoxModel",
      "_view_count": null,
      "_view_module": "@jupyter-widgets/controls",
      "_view_module_version": "1.5.0",
      "_view_name": "HBoxView",
      "box_style": "",
      "children": [
       "IPY_MODEL_f6d69595a9cd41659a73bda9e9f28021",
       "IPY_MODEL_7148e44516fc4443842f74f988436e10"
      ],
      "layout": "IPY_MODEL_bece14ab8109428d911f66b9b672d9fc"
     }
    },
    "3c13eca4c287455d9f83148b4ba3ee03": {
     "model_module": "@jupyter-widgets/controls",
     "model_name": "ProgressStyleModel",
     "state": {
      "_model_module": "@jupyter-widgets/controls",
      "_model_module_version": "1.5.0",
      "_model_name": "ProgressStyleModel",
      "_view_count": null,
      "_view_module": "@jupyter-widgets/base",
      "_view_module_version": "1.2.0",
      "_view_name": "StyleView",
      "bar_color": null,
      "description_width": "initial"
     }
    },
    "7148e44516fc4443842f74f988436e10": {
     "model_module": "@jupyter-widgets/controls",
     "model_name": "HTMLModel",
     "state": {
      "_dom_classes": [],
      "_model_module": "@jupyter-widgets/controls",
      "_model_module_version": "1.5.0",
      "_model_name": "HTMLModel",
      "_view_count": null,
      "_view_module": "@jupyter-widgets/controls",
      "_view_module_version": "1.5.0",
      "_view_name": "HTMLView",
      "description": "",
      "description_tooltip": null,
      "layout": "IPY_MODEL_c0c1185aac4e4c339460db4ae237df6a",
      "placeholder": "​",
      "style": "IPY_MODEL_a13d7c4c7be149af9dc8cfaae0dfceb6",
      "value": " 100000/100000 [00:15&lt;00:00, 6595.92it/s]"
     }
    },
    "a13d7c4c7be149af9dc8cfaae0dfceb6": {
     "model_module": "@jupyter-widgets/controls",
     "model_name": "DescriptionStyleModel",
     "state": {
      "_model_module": "@jupyter-widgets/controls",
      "_model_module_version": "1.5.0",
      "_model_name": "DescriptionStyleModel",
      "_view_count": null,
      "_view_module": "@jupyter-widgets/base",
      "_view_module_version": "1.2.0",
      "_view_name": "StyleView",
      "description_width": ""
     }
    },
    "bece14ab8109428d911f66b9b672d9fc": {
     "model_module": "@jupyter-widgets/base",
     "model_name": "LayoutModel",
     "state": {
      "_model_module": "@jupyter-widgets/base",
      "_model_module_version": "1.2.0",
      "_model_name": "LayoutModel",
      "_view_count": null,
      "_view_module": "@jupyter-widgets/base",
      "_view_module_version": "1.2.0",
      "_view_name": "LayoutView",
      "align_content": null,
      "align_items": null,
      "align_self": null,
      "border": null,
      "bottom": null,
      "display": null,
      "flex": null,
      "flex_flow": null,
      "grid_area": null,
      "grid_auto_columns": null,
      "grid_auto_flow": null,
      "grid_auto_rows": null,
      "grid_column": null,
      "grid_gap": null,
      "grid_row": null,
      "grid_template_areas": null,
      "grid_template_columns": null,
      "grid_template_rows": null,
      "height": null,
      "justify_content": null,
      "justify_items": null,
      "left": null,
      "margin": null,
      "max_height": null,
      "max_width": null,
      "min_height": null,
      "min_width": null,
      "object_fit": null,
      "object_position": null,
      "order": null,
      "overflow": null,
      "overflow_x": null,
      "overflow_y": null,
      "padding": null,
      "right": null,
      "top": null,
      "visibility": null,
      "width": null
     }
    },
    "c0c1185aac4e4c339460db4ae237df6a": {
     "model_module": "@jupyter-widgets/base",
     "model_name": "LayoutModel",
     "state": {
      "_model_module": "@jupyter-widgets/base",
      "_model_module_version": "1.2.0",
      "_model_name": "LayoutModel",
      "_view_count": null,
      "_view_module": "@jupyter-widgets/base",
      "_view_module_version": "1.2.0",
      "_view_name": "LayoutView",
      "align_content": null,
      "align_items": null,
      "align_self": null,
      "border": null,
      "bottom": null,
      "display": null,
      "flex": null,
      "flex_flow": null,
      "grid_area": null,
      "grid_auto_columns": null,
      "grid_auto_flow": null,
      "grid_auto_rows": null,
      "grid_column": null,
      "grid_gap": null,
      "grid_row": null,
      "grid_template_areas": null,
      "grid_template_columns": null,
      "grid_template_rows": null,
      "height": null,
      "justify_content": null,
      "justify_items": null,
      "left": null,
      "margin": null,
      "max_height": null,
      "max_width": null,
      "min_height": null,
      "min_width": null,
      "object_fit": null,
      "object_position": null,
      "order": null,
      "overflow": null,
      "overflow_x": null,
      "overflow_y": null,
      "padding": null,
      "right": null,
      "top": null,
      "visibility": null,
      "width": null
     }
    },
    "f6d69595a9cd41659a73bda9e9f28021": {
     "model_module": "@jupyter-widgets/controls",
     "model_name": "FloatProgressModel",
     "state": {
      "_dom_classes": [],
      "_model_module": "@jupyter-widgets/controls",
      "_model_module_version": "1.5.0",
      "_model_name": "FloatProgressModel",
      "_view_count": null,
      "_view_module": "@jupyter-widgets/controls",
      "_view_module_version": "1.5.0",
      "_view_name": "ProgressView",
      "bar_style": "success",
      "description": "100%",
      "description_tooltip": null,
      "layout": "IPY_MODEL_29daa51c7c394e35b6190c7937fe890a",
      "max": 100000,
      "min": 0,
      "orientation": "horizontal",
      "style": "IPY_MODEL_3c13eca4c287455d9f83148b4ba3ee03",
      "value": 100000
     }
    }
   }
  }
 },
 "nbformat": 4,
 "nbformat_minor": 1
}
